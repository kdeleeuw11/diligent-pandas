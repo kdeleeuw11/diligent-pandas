{
 "cells": [
  {
   "cell_type": "code",
   "execution_count": 1,
   "metadata": {
    "collapsed": true
   },
   "outputs": [],
   "source": [
    "from io import BytesIO\n",
    "import itertools\n",
    "\n",
    "import pandas as pd\n",
    "import numpy as np\n",
    "\n",
    "from diligent import diligent, registry"
   ]
  },
  {
   "cell_type": "code",
   "execution_count": 2,
   "metadata": {
    "collapsed": false
   },
   "outputs": [
    {
     "data": {
      "text/html": [
       "<table><thead><tr><th>Check</th><th>Dataframe</th><th>a</th></tr></thead><tbody><tr><th>Data Type</th><td style=\"background: #ddd\"></td><td id=\"diligent-c4101576-1769-4cf8-afed-652bf74aee9e-0-1\">&hellip;</td></tr><tr><th>Count NaN</th><td style=\"background: #ddd\"></td><td id=\"diligent-c4101576-1769-4cf8-afed-652bf74aee9e-1-1\">&hellip;</td></tr><tr><th>Count Zeroes</th><td style=\"background: #ddd\"></td><td id=\"diligent-c4101576-1769-4cf8-afed-652bf74aee9e-2-1\">&hellip;</td></tr><tr><th>Detect suspicious values</th><td style=\"background: #ddd\"></td><td id=\"diligent-c4101576-1769-4cf8-afed-652bf74aee9e-3-1\">&hellip;</td></tr><tr><th>Detect repeated digits</th><td style=\"background: #ddd\"></td><td id=\"diligent-c4101576-1769-4cf8-afed-652bf74aee9e-4-1\">&hellip;</td></tr><tr><th>Susipicous dataframe length</th><td id=\"diligent-c4101576-1769-4cf8-afed-652bf74aee9e-5-0\">&hellip;</td><td style=\"background: #ddd\"></td></tr><tr><th>Duplicate rows</th><td id=\"diligent-c4101576-1769-4cf8-afed-652bf74aee9e-6-0\">&hellip;</td><td style=\"background: #ddd\"></td></tr><tr><th>Duplicate values</th><td style=\"background: #ddd\"></td><td id=\"diligent-c4101576-1769-4cf8-afed-652bf74aee9e-7-1\">&hellip;</td></tr><tr><th>Possibly numeric</th><td style=\"background: #ddd\"></td><td id=\"diligent-c4101576-1769-4cf8-afed-652bf74aee9e-8-1\">&hellip;</td></tr></tbody></table>"
      ],
      "text/plain": [
       "<IPython.core.display.HTML object>"
      ]
     },
     "metadata": {},
     "output_type": "display_data"
    },
    {
     "data": {
      "application/javascript": [
       "\n",
       "                (function(){\n",
       "                    var node = document.getElementById('diligent-c4101576-1769-4cf8-afed-652bf74aee9e-5-0');\n",
       "                    var data = '';\n",
       "                    node.innerHTML = data;\n",
       "                    if (!data) {\n",
       "                        node.style.backgroundColor = '#eee';\n",
       "                    }\n",
       "                }());\n",
       "            "
      ]
     },
     "metadata": {},
     "output_type": "display_data"
    },
    {
     "data": {
      "application/javascript": [
       "\n",
       "                (function(){\n",
       "                    var node = document.getElementById('diligent-c4101576-1769-4cf8-afed-652bf74aee9e-0-1');\n",
       "                    var data = 'float64';\n",
       "                    node.innerHTML = data;\n",
       "                    if (!data) {\n",
       "                        node.style.backgroundColor = '#eee';\n",
       "                    }\n",
       "                }());\n",
       "            "
      ]
     },
     "metadata": {},
     "output_type": "display_data"
    },
    {
     "data": {
      "application/javascript": [
       "\n",
       "                (function(){\n",
       "                    var node = document.getElementById('diligent-c4101576-1769-4cf8-afed-652bf74aee9e-1-1');\n",
       "                    var data = '2 NaN values';\n",
       "                    node.innerHTML = data;\n",
       "                    if (!data) {\n",
       "                        node.style.backgroundColor = '#eee';\n",
       "                    }\n",
       "                }());\n",
       "            "
      ]
     },
     "metadata": {},
     "output_type": "display_data"
    },
    {
     "data": {
      "application/javascript": [
       "\n",
       "                (function(){\n",
       "                    var node = document.getElementById('diligent-c4101576-1769-4cf8-afed-652bf74aee9e-2-1');\n",
       "                    var data = '1 values are 0';\n",
       "                    node.innerHTML = data;\n",
       "                    if (!data) {\n",
       "                        node.style.backgroundColor = '#eee';\n",
       "                    }\n",
       "                }());\n",
       "            "
      ]
     },
     "metadata": {},
     "output_type": "display_data"
    },
    {
     "data": {
      "application/javascript": [
       "\n",
       "                (function(){\n",
       "                    var node = document.getElementById('diligent-c4101576-1769-4cf8-afed-652bf74aee9e-7-1');\n",
       "                    var data = '\\u003Cul\\u003E\\u003Cli\\u003E\\u003Ch4\\u003E1 duplicates for the value 998.0\\u003C/h4\\u003E\\u003Ctable border\\u003D\\u00221\\u0022 class\\u003D\\u0022dataframe\\u0022\\u003E\\u000A  \\u003Cthead\\u003E\\u000A    \\u003Ctr style\\u003D\\u0022text\\u002Dalign: right\\u003B\\u0022\\u003E\\u000A      \\u003Cth\\u003E\\u003C/th\\u003E\\u000A      \\u003Cth\\u003Ea\\u003C/th\\u003E\\u000A    \\u003C/tr\\u003E\\u000A  \\u003C/thead\\u003E\\u000A  \\u003Ctbody\\u003E\\u000A    \\u003Ctr\\u003E\\u000A      \\u003Cth\\u003E1000\\u003C/th\\u003E\\u000A      \\u003Ctd\\u003E998.0\\u003C/td\\u003E\\u000A    \\u003C/tr\\u003E\\u000A  \\u003C/tbody\\u003E\\u000A\\u003C/table\\u003E\\u003C/li\\u003E\\u003Cli\\u003E\\u003Ch4\\u003E1 duplicates for the value 999.0\\u003C/h4\\u003E\\u003Ctable border\\u003D\\u00221\\u0022 class\\u003D\\u0022dataframe\\u0022\\u003E\\u000A  \\u003Cthead\\u003E\\u000A    \\u003Ctr style\\u003D\\u0022text\\u002Dalign: right\\u003B\\u0022\\u003E\\u000A      \\u003Cth\\u003E\\u003C/th\\u003E\\u000A      \\u003Cth\\u003Ea\\u003C/th\\u003E\\u000A    \\u003C/tr\\u003E\\u000A  \\u003C/thead\\u003E\\u000A  \\u003Ctbody\\u003E\\u000A    \\u003Ctr\\u003E\\u000A      \\u003Cth\\u003E1000\\u003C/th\\u003E\\u000A      \\u003Ctd\\u003E998.0\\u003C/td\\u003E\\u000A    \\u003C/tr\\u003E\\u000A  \\u003C/tbody\\u003E\\u000A\\u003C/table\\u003E\\u003C/li\\u003E\\u003C/ul\\u003E';\n",
       "                    node.innerHTML = data;\n",
       "                    if (!data) {\n",
       "                        node.style.backgroundColor = '#eee';\n",
       "                    }\n",
       "                }());\n",
       "            "
      ]
     },
     "metadata": {},
     "output_type": "display_data"
    },
    {
     "data": {
      "application/javascript": [
       "\n",
       "                (function(){\n",
       "                    var node = document.getElementById('diligent-c4101576-1769-4cf8-afed-652bf74aee9e-3-1');\n",
       "                    var data = '';\n",
       "                    node.innerHTML = data;\n",
       "                    if (!data) {\n",
       "                        node.style.backgroundColor = '#eee';\n",
       "                    }\n",
       "                }());\n",
       "            "
      ]
     },
     "metadata": {},
     "output_type": "display_data"
    },
    {
     "data": {
      "application/javascript": [
       "\n",
       "                (function(){\n",
       "                    var node = document.getElementById('diligent-c4101576-1769-4cf8-afed-652bf74aee9e-6-0');\n",
       "                    var data = '\\u003Cul\\u003E\\u003Cli\\u003E\\u003Ch4\\u003E1 duplicates for the following row\\u003C/h4\\u003E\\u003Ctable border\\u003D\\u00221\\u0022 class\\u003D\\u0022dataframe\\u0022\\u003E\\u000A  \\u003Cthead\\u003E\\u000A    \\u003Ctr style\\u003D\\u0022text\\u002Dalign: right\\u003B\\u0022\\u003E\\u000A      \\u003Cth\\u003E\\u003C/th\\u003E\\u000A      \\u003Cth\\u003Ea\\u003C/th\\u003E\\u000A    \\u003C/tr\\u003E\\u000A  \\u003C/thead\\u003E\\u000A  \\u003Ctbody\\u003E\\u000A    \\u003Ctr\\u003E\\u000A      \\u003Cth\\u003E1000\\u003C/th\\u003E\\u000A      \\u003Ctd\\u003E998.0\\u003C/td\\u003E\\u000A    \\u003C/tr\\u003E\\u000A  \\u003C/tbody\\u003E\\u000A\\u003C/table\\u003E\\u003C/li\\u003E\\u003Cli\\u003E\\u003Ch4\\u003E1 duplicates for the following row\\u003C/h4\\u003E\\u003Ctable border\\u003D\\u00221\\u0022 class\\u003D\\u0022dataframe\\u0022\\u003E\\u000A  \\u003Cthead\\u003E\\u000A    \\u003Ctr style\\u003D\\u0022text\\u002Dalign: right\\u003B\\u0022\\u003E\\u000A      \\u003Cth\\u003E\\u003C/th\\u003E\\u000A      \\u003Cth\\u003Ea\\u003C/th\\u003E\\u000A    \\u003C/tr\\u003E\\u000A  \\u003C/thead\\u003E\\u000A  \\u003Ctbody\\u003E\\u000A    \\u003Ctr\\u003E\\u000A      \\u003Cth\\u003E1001\\u003C/th\\u003E\\u000A      \\u003Ctd\\u003E999.0\\u003C/td\\u003E\\u000A    \\u003C/tr\\u003E\\u000A  \\u003C/tbody\\u003E\\u000A\\u003C/table\\u003E\\u003C/li\\u003E\\u003C/ul\\u003E';\n",
       "                    node.innerHTML = data;\n",
       "                    if (!data) {\n",
       "                        node.style.backgroundColor = '#eee';\n",
       "                    }\n",
       "                }());\n",
       "            "
      ]
     },
     "metadata": {},
     "output_type": "display_data"
    },
    {
     "data": {
      "application/javascript": [
       "\n",
       "                (function(){\n",
       "                    var node = document.getElementById('diligent-c4101576-1769-4cf8-afed-652bf74aee9e-8-1');\n",
       "                    var data = '';\n",
       "                    node.innerHTML = data;\n",
       "                    if (!data) {\n",
       "                        node.style.backgroundColor = '#eee';\n",
       "                    }\n",
       "                }());\n",
       "            "
      ]
     },
     "metadata": {},
     "output_type": "display_data"
    },
    {
     "data": {
      "application/javascript": [
       "\n",
       "                (function(){\n",
       "                    var node = document.getElementById('diligent-c4101576-1769-4cf8-afed-652bf74aee9e-4-1');\n",
       "                    var data = '\\u003Cul\\u003E\\u003Cli\\u003EThe value 11.0 appears 1 times\\u003C/li\\u003E\\u003Cli\\u003EThe value 111.0 appears 1 times\\u003C/li\\u003E\\u003Cli\\u003EThe value 22.0 appears 1 times\\u003C/li\\u003E\\u003Cli\\u003EThe value 222.0 appears 1 times\\u003C/li\\u003E\\u003Cli\\u003EThe value 33.0 appears 1 times\\u003C/li\\u003E\\u003C/ul\\u003E\\u003Cp\\u003EAnd 13 more, set to verbose to see\\u003C/p\\u003E';\n",
       "                    node.innerHTML = data;\n",
       "                    if (!data) {\n",
       "                        node.style.backgroundColor = '#eee';\n",
       "                    }\n",
       "                }());\n",
       "            "
      ]
     },
     "metadata": {},
     "output_type": "display_data"
    },
    {
     "data": {
      "text/html": [],
      "text/plain": [
       "<diligent.diligent.DiligentReport at 0x108893d30>"
      ]
     },
     "execution_count": 2,
     "metadata": {},
     "output_type": "execute_result"
    }
   ],
   "source": [
    "test_df = pd.DataFrame({'a': [None, None] + [x for x in range(1000)] + [999] + [998]})\n",
    "diligent(test_df, include='basic')"
   ]
  },
  {
   "cell_type": "code",
   "execution_count": 3,
   "metadata": {
    "collapsed": false
   },
   "outputs": [
    {
     "data": {
      "text/html": [
       "<table><thead><tr><th>Check</th><th>Dataframe</th><th>a</th><th>b</th></tr></thead><tbody><tr><th>Data Type</th><td style=\"background: #ddd\"></td><td id=\"diligent-f2d4c80e-e3c1-48f0-ae2e-14614b72d880-0-1\">&hellip;</td><td id=\"diligent-f2d4c80e-e3c1-48f0-ae2e-14614b72d880-0-2\">&hellip;</td></tr><tr><th>Count NaN</th><td style=\"background: #ddd\"></td><td id=\"diligent-f2d4c80e-e3c1-48f0-ae2e-14614b72d880-1-1\">&hellip;</td><td id=\"diligent-f2d4c80e-e3c1-48f0-ae2e-14614b72d880-1-2\">&hellip;</td></tr><tr><th>Count Zeroes</th><td style=\"background: #ddd\"></td><td id=\"diligent-f2d4c80e-e3c1-48f0-ae2e-14614b72d880-2-1\">&hellip;</td><td id=\"diligent-f2d4c80e-e3c1-48f0-ae2e-14614b72d880-2-2\">&hellip;</td></tr><tr><th>Detect suspicious values</th><td style=\"background: #ddd\"></td><td id=\"diligent-f2d4c80e-e3c1-48f0-ae2e-14614b72d880-3-1\">&hellip;</td><td id=\"diligent-f2d4c80e-e3c1-48f0-ae2e-14614b72d880-3-2\">&hellip;</td></tr><tr><th>Detect repeated digits</th><td style=\"background: #ddd\"></td><td id=\"diligent-f2d4c80e-e3c1-48f0-ae2e-14614b72d880-4-1\">&hellip;</td><td id=\"diligent-f2d4c80e-e3c1-48f0-ae2e-14614b72d880-4-2\">&hellip;</td></tr><tr><th>Susipicous dataframe length</th><td id=\"diligent-f2d4c80e-e3c1-48f0-ae2e-14614b72d880-5-0\">&hellip;</td><td style=\"background: #ddd\"></td><td style=\"background: #ddd\"></td></tr><tr><th>Duplicate rows</th><td id=\"diligent-f2d4c80e-e3c1-48f0-ae2e-14614b72d880-6-0\">&hellip;</td><td style=\"background: #ddd\"></td><td style=\"background: #ddd\"></td></tr><tr><th>Duplicate values</th><td style=\"background: #ddd\"></td><td id=\"diligent-f2d4c80e-e3c1-48f0-ae2e-14614b72d880-7-1\">&hellip;</td><td id=\"diligent-f2d4c80e-e3c1-48f0-ae2e-14614b72d880-7-2\">&hellip;</td></tr><tr><th>Possibly numeric</th><td style=\"background: #ddd\"></td><td id=\"diligent-f2d4c80e-e3c1-48f0-ae2e-14614b72d880-8-1\">&hellip;</td><td id=\"diligent-f2d4c80e-e3c1-48f0-ae2e-14614b72d880-8-2\">&hellip;</td></tr><tr><th>Nelson Rule 1</th><td style=\"background: #ddd\"></td><td id=\"diligent-f2d4c80e-e3c1-48f0-ae2e-14614b72d880-9-1\">&hellip;</td><td id=\"diligent-f2d4c80e-e3c1-48f0-ae2e-14614b72d880-9-2\">&hellip;</td></tr><tr><th>Nelson Rule 2</th><td style=\"background: #ddd\"></td><td id=\"diligent-f2d4c80e-e3c1-48f0-ae2e-14614b72d880-10-1\">&hellip;</td><td id=\"diligent-f2d4c80e-e3c1-48f0-ae2e-14614b72d880-10-2\">&hellip;</td></tr><tr><th>Nelson Rule 3</th><td style=\"background: #ddd\"></td><td id=\"diligent-f2d4c80e-e3c1-48f0-ae2e-14614b72d880-11-1\">&hellip;</td><td id=\"diligent-f2d4c80e-e3c1-48f0-ae2e-14614b72d880-11-2\">&hellip;</td></tr><tr><th>Nelson Rule 4</th><td style=\"background: #ddd\"></td><td id=\"diligent-f2d4c80e-e3c1-48f0-ae2e-14614b72d880-12-1\">&hellip;</td><td id=\"diligent-f2d4c80e-e3c1-48f0-ae2e-14614b72d880-12-2\">&hellip;</td></tr><tr><th>Nelson Rule 5</th><td style=\"background: #ddd\"></td><td id=\"diligent-f2d4c80e-e3c1-48f0-ae2e-14614b72d880-13-1\">&hellip;</td><td id=\"diligent-f2d4c80e-e3c1-48f0-ae2e-14614b72d880-13-2\">&hellip;</td></tr><tr><th>Nelson Rule 6</th><td style=\"background: #ddd\"></td><td id=\"diligent-f2d4c80e-e3c1-48f0-ae2e-14614b72d880-14-1\">&hellip;</td><td id=\"diligent-f2d4c80e-e3c1-48f0-ae2e-14614b72d880-14-2\">&hellip;</td></tr><tr><th>Nelson Rule 7</th><td style=\"background: #ddd\"></td><td id=\"diligent-f2d4c80e-e3c1-48f0-ae2e-14614b72d880-15-1\">&hellip;</td><td id=\"diligent-f2d4c80e-e3c1-48f0-ae2e-14614b72d880-15-2\">&hellip;</td></tr><tr><th>Nelson Rule 8</th><td style=\"background: #ddd\"></td><td id=\"diligent-f2d4c80e-e3c1-48f0-ae2e-14614b72d880-16-1\">&hellip;</td><td id=\"diligent-f2d4c80e-e3c1-48f0-ae2e-14614b72d880-16-2\">&hellip;</td></tr><tr><th>Benford's law</th><td style=\"background: #ddd\"></td><td id=\"diligent-f2d4c80e-e3c1-48f0-ae2e-14614b72d880-17-1\">&hellip;</td><td id=\"diligent-f2d4c80e-e3c1-48f0-ae2e-14614b72d880-17-2\">&hellip;</td></tr></tbody></table>"
      ],
      "text/plain": [
       "<IPython.core.display.HTML object>"
      ]
     },
     "metadata": {},
     "output_type": "display_data"
    },
    {
     "data": {
      "application/javascript": [
       "\n",
       "                (function(){\n",
       "                    var node = document.getElementById('diligent-f2d4c80e-e3c1-48f0-ae2e-14614b72d880-5-0');\n",
       "                    var data = '';\n",
       "                    node.innerHTML = data;\n",
       "                    if (!data) {\n",
       "                        node.style.backgroundColor = '#eee';\n",
       "                    }\n",
       "                }());\n",
       "            "
      ]
     },
     "metadata": {},
     "output_type": "display_data"
    },
    {
     "data": {
      "application/javascript": [
       "\n",
       "                (function(){\n",
       "                    var node = document.getElementById('diligent-f2d4c80e-e3c1-48f0-ae2e-14614b72d880-2-1');\n",
       "                    var data = '1 values are 0';\n",
       "                    node.innerHTML = data;\n",
       "                    if (!data) {\n",
       "                        node.style.backgroundColor = '#eee';\n",
       "                    }\n",
       "                }());\n",
       "            "
      ]
     },
     "metadata": {},
     "output_type": "display_data"
    },
    {
     "data": {
      "application/javascript": [
       "\n",
       "                (function(){\n",
       "                    var node = document.getElementById('diligent-f2d4c80e-e3c1-48f0-ae2e-14614b72d880-1-1');\n",
       "                    var data = '2 NaN values';\n",
       "                    node.innerHTML = data;\n",
       "                    if (!data) {\n",
       "                        node.style.backgroundColor = '#eee';\n",
       "                    }\n",
       "                }());\n",
       "            "
      ]
     },
     "metadata": {},
     "output_type": "display_data"
    },
    {
     "data": {
      "application/javascript": [
       "\n",
       "                (function(){\n",
       "                    var node = document.getElementById('diligent-f2d4c80e-e3c1-48f0-ae2e-14614b72d880-0-1');\n",
       "                    var data = 'float64';\n",
       "                    node.innerHTML = data;\n",
       "                    if (!data) {\n",
       "                        node.style.backgroundColor = '#eee';\n",
       "                    }\n",
       "                }());\n",
       "            "
      ]
     },
     "metadata": {},
     "output_type": "display_data"
    },
    {
     "data": {
      "application/javascript": [
       "\n",
       "                (function(){\n",
       "                    var node = document.getElementById('diligent-f2d4c80e-e3c1-48f0-ae2e-14614b72d880-3-1');\n",
       "                    var data = '';\n",
       "                    node.innerHTML = data;\n",
       "                    if (!data) {\n",
       "                        node.style.backgroundColor = '#eee';\n",
       "                    }\n",
       "                }());\n",
       "            "
      ]
     },
     "metadata": {},
     "output_type": "display_data"
    },
    {
     "data": {
      "application/javascript": [
       "\n",
       "                (function(){\n",
       "                    var node = document.getElementById('diligent-f2d4c80e-e3c1-48f0-ae2e-14614b72d880-8-1');\n",
       "                    var data = '';\n",
       "                    node.innerHTML = data;\n",
       "                    if (!data) {\n",
       "                        node.style.backgroundColor = '#eee';\n",
       "                    }\n",
       "                }());\n",
       "            "
      ]
     },
     "metadata": {},
     "output_type": "display_data"
    },
    {
     "data": {
      "application/javascript": [
       "\n",
       "                (function(){\n",
       "                    var node = document.getElementById('diligent-f2d4c80e-e3c1-48f0-ae2e-14614b72d880-6-0');\n",
       "                    var data = '\\u003Cul\\u003E\\u003Cli\\u003E\\u003Ch4\\u003E1 duplicates for the following row\\u003C/h4\\u003E\\u003Ctable border\\u003D\\u00221\\u0022 class\\u003D\\u0022dataframe\\u0022\\u003E\\u000A  \\u003Cthead\\u003E\\u000A    \\u003Ctr style\\u003D\\u0022text\\u002Dalign: right\\u003B\\u0022\\u003E\\u000A      \\u003Cth\\u003E\\u003C/th\\u003E\\u000A      \\u003Cth\\u003Ea\\u003C/th\\u003E\\u000A      \\u003Cth\\u003Eb\\u003C/th\\u003E\\u000A    \\u003C/tr\\u003E\\u000A  \\u003C/thead\\u003E\\u000A  \\u003Ctbody\\u003E\\u000A    \\u003Ctr\\u003E\\u000A      \\u003Cth\\u003E1002\\u003C/th\\u003E\\u000A      \\u003Ctd\\u003E999.0\\u003C/td\\u003E\\u000A      \\u003Ctd\\u003E999.0\\u003C/td\\u003E\\u000A    \\u003C/tr\\u003E\\u000A  \\u003C/tbody\\u003E\\u000A\\u003C/table\\u003E\\u003C/li\\u003E\\u003Cli\\u003E\\u003Ch4\\u003E3 duplicates for the following row\\u003C/h4\\u003E\\u003Ctable border\\u003D\\u00221\\u0022 class\\u003D\\u0022dataframe\\u0022\\u003E\\u000A  \\u003Cthead\\u003E\\u000A    \\u003Ctr style\\u003D\\u0022text\\u002Dalign: right\\u003B\\u0022\\u003E\\u000A      \\u003Cth\\u003E\\u003C/th\\u003E\\u000A      \\u003Cth\\u003Ea\\u003C/th\\u003E\\u000A      \\u003Cth\\u003Eb\\u003C/th\\u003E\\u000A    \\u003C/tr\\u003E\\u000A  \\u003C/thead\\u003E\\u000A  \\u003Ctbody\\u003E\\u000A    \\u003Ctr\\u003E\\u000A      \\u003Cth\\u003E1005\\u003C/th\\u003E\\u000A      \\u003Ctd\\u003E123.0\\u003C/td\\u003E\\u000A      \\u003Ctd\\u003E123.0\\u003C/td\\u003E\\u000A    \\u003C/tr\\u003E\\u000A  \\u003C/tbody\\u003E\\u000A\\u003C/table\\u003E\\u003C/li\\u003E\\u003C/ul\\u003E';\n",
       "                    node.innerHTML = data;\n",
       "                    if (!data) {\n",
       "                        node.style.backgroundColor = '#eee';\n",
       "                    }\n",
       "                }());\n",
       "            "
      ]
     },
     "metadata": {},
     "output_type": "display_data"
    },
    {
     "data": {
      "application/javascript": [
       "\n",
       "                (function(){\n",
       "                    var node = document.getElementById('diligent-f2d4c80e-e3c1-48f0-ae2e-14614b72d880-10-1');\n",
       "                    var data = '\\u003Cul\\u003E\\u003Cli\\u003EAt 1: 500 data points in sequence are below the mean of 499.1190476190476\\u003C/li\\u003E\\u003Cli\\u003EAt 501: 503 data points in sequence are above the mean of 499.1190476190476\\u003C/li\\u003E\\u003C/ul\\u003E';\n",
       "                    node.innerHTML = data;\n",
       "                    if (!data) {\n",
       "                        node.style.backgroundColor = '#eee';\n",
       "                    }\n",
       "                }());\n",
       "            "
      ]
     },
     "metadata": {},
     "output_type": "display_data"
    },
    {
     "data": {
      "application/javascript": [
       "\n",
       "                (function(){\n",
       "                    var node = document.getElementById('diligent-f2d4c80e-e3c1-48f0-ae2e-14614b72d880-7-1');\n",
       "                    var data = '\\u003Cul\\u003E\\u003Cli\\u003E\\u003Ch4\\u003E5 duplicates for the value 123.0\\u003C/h4\\u003E\\u003Ctable border\\u003D\\u00221\\u0022 class\\u003D\\u0022dataframe\\u0022\\u003E\\u000A  \\u003Cthead\\u003E\\u000A    \\u003Ctr style\\u003D\\u0022text\\u002Dalign: right\\u003B\\u0022\\u003E\\u000A      \\u003Cth\\u003E\\u003C/th\\u003E\\u000A      \\u003Cth\\u003Ea\\u003C/th\\u003E\\u000A      \\u003Cth\\u003Eb\\u003C/th\\u003E\\u000A    \\u003C/tr\\u003E\\u000A  \\u003C/thead\\u003E\\u000A  \\u003Ctbody\\u003E\\u000A    \\u003Ctr\\u003E\\u000A      \\u003Cth\\u003E124\\u003C/th\\u003E\\u000A      \\u003Ctd\\u003E123.0\\u003C/td\\u003E\\u000A      \\u003Ctd\\u003E878.0\\u003C/td\\u003E\\u000A    \\u003C/tr\\u003E\\u000A  \\u003C/tbody\\u003E\\u000A\\u003C/table\\u003E\\u003C/li\\u003E\\u003Cli\\u003E\\u003Ch4\\u003E3 duplicates for the value 999.0\\u003C/h4\\u003E\\u003Ctable border\\u003D\\u00221\\u0022 class\\u003D\\u0022dataframe\\u0022\\u003E\\u000A  \\u003Cthead\\u003E\\u000A    \\u003Ctr style\\u003D\\u0022text\\u002Dalign: right\\u003B\\u0022\\u003E\\u000A      \\u003Cth\\u003E\\u003C/th\\u003E\\u000A      \\u003Cth\\u003Ea\\u003C/th\\u003E\\u000A      \\u003Cth\\u003Eb\\u003C/th\\u003E\\u000A    \\u003C/tr\\u003E\\u000A  \\u003C/thead\\u003E\\u000A  \\u003Ctbody\\u003E\\u000A    \\u003Ctr\\u003E\\u000A      \\u003Cth\\u003E124\\u003C/th\\u003E\\u000A      \\u003Ctd\\u003E123.0\\u003C/td\\u003E\\u000A      \\u003Ctd\\u003E878.0\\u003C/td\\u003E\\u000A    \\u003C/tr\\u003E\\u000A  \\u003C/tbody\\u003E\\u000A\\u003C/table\\u003E\\u003C/li\\u003E\\u003C/ul\\u003E';\n",
       "                    node.innerHTML = data;\n",
       "                    if (!data) {\n",
       "                        node.style.backgroundColor = '#eee';\n",
       "                    }\n",
       "                }());\n",
       "            "
      ]
     },
     "metadata": {},
     "output_type": "display_data"
    },
    {
     "data": {
      "application/javascript": [
       "\n",
       "                (function(){\n",
       "                    var node = document.getElementById('diligent-f2d4c80e-e3c1-48f0-ae2e-14614b72d880-9-1');\n",
       "                    var data = '';\n",
       "                    node.innerHTML = data;\n",
       "                    if (!data) {\n",
       "                        node.style.backgroundColor = '#eee';\n",
       "                    }\n",
       "                }());\n",
       "            "
      ]
     },
     "metadata": {},
     "output_type": "display_data"
    },
    {
     "data": {
      "application/javascript": [
       "\n",
       "                (function(){\n",
       "                    var node = document.getElementById('diligent-f2d4c80e-e3c1-48f0-ae2e-14614b72d880-12-1');\n",
       "                    var data = '';\n",
       "                    node.innerHTML = data;\n",
       "                    if (!data) {\n",
       "                        node.style.backgroundColor = '#eee';\n",
       "                    }\n",
       "                }());\n",
       "            "
      ]
     },
     "metadata": {},
     "output_type": "display_data"
    },
    {
     "data": {
      "application/javascript": [
       "\n",
       "                (function(){\n",
       "                    var node = document.getElementById('diligent-f2d4c80e-e3c1-48f0-ae2e-14614b72d880-11-1');\n",
       "                    var data = 'At 1: 1000 data points in sequence are increasing';\n",
       "                    node.innerHTML = data;\n",
       "                    if (!data) {\n",
       "                        node.style.backgroundColor = '#eee';\n",
       "                    }\n",
       "                }());\n",
       "            "
      ]
     },
     "metadata": {},
     "output_type": "display_data"
    },
    {
     "data": {
      "application/javascript": [
       "\n",
       "                (function(){\n",
       "                    var node = document.getElementById('diligent-f2d4c80e-e3c1-48f0-ae2e-14614b72d880-13-1');\n",
       "                    var data = '';\n",
       "                    node.innerHTML = data;\n",
       "                    if (!data) {\n",
       "                        node.style.backgroundColor = '#eee';\n",
       "                    }\n",
       "                }());\n",
       "            "
      ]
     },
     "metadata": {},
     "output_type": "display_data"
    },
    {
     "data": {
      "application/javascript": [
       "\n",
       "                (function(){\n",
       "                    var node = document.getElementById('diligent-f2d4c80e-e3c1-48f0-ae2e-14614b72d880-15-1');\n",
       "                    var data = 'At 210: 581 points in a row are all within 1 standard deviation of the mean on either side of the mean.';\n",
       "                    node.innerHTML = data;\n",
       "                    if (!data) {\n",
       "                        node.style.backgroundColor = '#eee';\n",
       "                    }\n",
       "                }());\n",
       "            "
      ]
     },
     "metadata": {},
     "output_type": "display_data"
    },
    {
     "data": {
      "application/javascript": [
       "\n",
       "                (function(){\n",
       "                    var node = document.getElementById('diligent-f2d4c80e-e3c1-48f0-ae2e-14614b72d880-16-1');\n",
       "                    var data = '\\u003Cul\\u003E\\u003Cli\\u003EAt 1: 209 points in a row exist with none within 1 standard deviation of the mean and the points are in both directions from the mean.\\u003C/li\\u003E\\u003Cli\\u003EAt 791: 218 points in a row exist with none within 1 standard deviation of the mean and the points are in both directions from the mean.\\u003C/li\\u003E\\u003C/ul\\u003E';\n",
       "                    node.innerHTML = data;\n",
       "                    if (!data) {\n",
       "                        node.style.backgroundColor = '#eee';\n",
       "                    }\n",
       "                }());\n",
       "            "
      ]
     },
     "metadata": {},
     "output_type": "display_data"
    },
    {
     "data": {
      "application/javascript": [
       "\n",
       "                (function(){\n",
       "                    var node = document.getElementById('diligent-f2d4c80e-e3c1-48f0-ae2e-14614b72d880-0-2');\n",
       "                    var data = 'float64';\n",
       "                    node.innerHTML = data;\n",
       "                    if (!data) {\n",
       "                        node.style.backgroundColor = '#eee';\n",
       "                    }\n",
       "                }());\n",
       "            "
      ]
     },
     "metadata": {},
     "output_type": "display_data"
    },
    {
     "data": {
      "application/javascript": [
       "\n",
       "                (function(){\n",
       "                    var node = document.getElementById('diligent-f2d4c80e-e3c1-48f0-ae2e-14614b72d880-1-2');\n",
       "                    var data = '2 NaN values';\n",
       "                    node.innerHTML = data;\n",
       "                    if (!data) {\n",
       "                        node.style.backgroundColor = '#eee';\n",
       "                    }\n",
       "                }());\n",
       "            "
      ]
     },
     "metadata": {},
     "output_type": "display_data"
    },
    {
     "data": {
      "application/javascript": [
       "\n",
       "                (function(){\n",
       "                    var node = document.getElementById('diligent-f2d4c80e-e3c1-48f0-ae2e-14614b72d880-14-1');\n",
       "                    var data = '\\u003Cul\\u003E\\u003Cli\\u003EAt 0: 4 out of 5 points in a row are more than 1 standard deviations below the mean.\\u003C/li\\u003E\\u003Cli\\u003EAt 1: 5 out of 5 points in a row are more than 1 standard deviations below the mean.\\u003C/li\\u003E\\u003Cli\\u003EAt 2: 5 out of 5 points in a row are more than 1 standard deviations below the mean.\\u003C/li\\u003E\\u003Cli\\u003EAt 3: 5 out of 5 points in a row are more than 1 standard deviations below the mean.\\u003C/li\\u003E\\u003Cli\\u003EAt 4: 5 out of 5 points in a row are more than 1 standard deviations below the mean.\\u003C/li\\u003E\\u003C/ul\\u003E\\u003Cp\\u003EAnd 416 more, set to verbose to see\\u003C/p\\u003E';\n",
       "                    node.innerHTML = data;\n",
       "                    if (!data) {\n",
       "                        node.style.backgroundColor = '#eee';\n",
       "                    }\n",
       "                }());\n",
       "            "
      ]
     },
     "metadata": {},
     "output_type": "display_data"
    },
    {
     "data": {
      "application/javascript": [
       "\n",
       "                (function(){\n",
       "                    var node = document.getElementById('diligent-f2d4c80e-e3c1-48f0-ae2e-14614b72d880-2-2');\n",
       "                    var data = '0 values are 0';\n",
       "                    node.innerHTML = data;\n",
       "                    if (!data) {\n",
       "                        node.style.backgroundColor = '#eee';\n",
       "                    }\n",
       "                }());\n",
       "            "
      ]
     },
     "metadata": {},
     "output_type": "display_data"
    },
    {
     "data": {
      "application/javascript": [
       "\n",
       "                (function(){\n",
       "                    var node = document.getElementById('diligent-f2d4c80e-e3c1-48f0-ae2e-14614b72d880-3-2');\n",
       "                    var data = '';\n",
       "                    node.innerHTML = data;\n",
       "                    if (!data) {\n",
       "                        node.style.backgroundColor = '#eee';\n",
       "                    }\n",
       "                }());\n",
       "            "
      ]
     },
     "metadata": {},
     "output_type": "display_data"
    },
    {
     "data": {
      "application/javascript": [
       "\n",
       "                (function(){\n",
       "                    var node = document.getElementById('diligent-f2d4c80e-e3c1-48f0-ae2e-14614b72d880-4-1');\n",
       "                    var data = '\\u003Cul\\u003E\\u003Cli\\u003EThe value 11.0 appears 1 times\\u003C/li\\u003E\\u003Cli\\u003EThe value 111.0 appears 1 times\\u003C/li\\u003E\\u003Cli\\u003EThe value 22.0 appears 1 times\\u003C/li\\u003E\\u003Cli\\u003EThe value 222.0 appears 1 times\\u003C/li\\u003E\\u003Cli\\u003EThe value 33.0 appears 1 times\\u003C/li\\u003E\\u003C/ul\\u003E\\u003Cp\\u003EAnd 13 more, set to verbose to see\\u003C/p\\u003E';\n",
       "                    node.innerHTML = data;\n",
       "                    if (!data) {\n",
       "                        node.style.backgroundColor = '#eee';\n",
       "                    }\n",
       "                }());\n",
       "            "
      ]
     },
     "metadata": {},
     "output_type": "display_data"
    },
    {
     "data": {
      "application/javascript": [
       "\n",
       "                (function(){\n",
       "                    var node = document.getElementById('diligent-f2d4c80e-e3c1-48f0-ae2e-14614b72d880-7-2');\n",
       "                    var data = '\\u003Cul\\u003E\\u003Cli\\u003E\\u003Ch4\\u003E3 duplicates for the value 999.0\\u003C/h4\\u003E\\u003Ctable border\\u003D\\u00221\\u0022 class\\u003D\\u0022dataframe\\u0022\\u003E\\u000A  \\u003Cthead\\u003E\\u000A    \\u003Ctr style\\u003D\\u0022text\\u002Dalign: right\\u003B\\u0022\\u003E\\u000A      \\u003Cth\\u003E\\u003C/th\\u003E\\u000A      \\u003Cth\\u003Ea\\u003C/th\\u003E\\u000A      \\u003Cth\\u003Eb\\u003C/th\\u003E\\u000A    \\u003C/tr\\u003E\\u000A  \\u003C/thead\\u003E\\u000A  \\u003Ctbody\\u003E\\u000A    \\u003Ctr\\u003E\\u000A      \\u003Cth\\u003E3\\u003C/th\\u003E\\u000A      \\u003Ctd\\u003E2.0\\u003C/td\\u003E\\u000A      \\u003Ctd\\u003E999.0\\u003C/td\\u003E\\u000A    \\u003C/tr\\u003E\\u000A  \\u003C/tbody\\u003E\\u000A\\u003C/table\\u003E\\u003C/li\\u003E\\u003Cli\\u003E\\u003Ch4\\u003E5 duplicates for the value 123.0\\u003C/h4\\u003E\\u003Ctable border\\u003D\\u00221\\u0022 class\\u003D\\u0022dataframe\\u0022\\u003E\\u000A  \\u003Cthead\\u003E\\u000A    \\u003Ctr style\\u003D\\u0022text\\u002Dalign: right\\u003B\\u0022\\u003E\\u000A      \\u003Cth\\u003E\\u003C/th\\u003E\\u000A      \\u003Cth\\u003Ea\\u003C/th\\u003E\\u000A      \\u003Cth\\u003Eb\\u003C/th\\u003E\\u000A    \\u003C/tr\\u003E\\u000A  \\u003C/thead\\u003E\\u000A  \\u003Ctbody\\u003E\\u000A    \\u003Ctr\\u003E\\u000A      \\u003Cth\\u003E3\\u003C/th\\u003E\\u000A      \\u003Ctd\\u003E2.0\\u003C/td\\u003E\\u000A      \\u003Ctd\\u003E999.0\\u003C/td\\u003E\\u000A    \\u003C/tr\\u003E\\u000A  \\u003C/tbody\\u003E\\u000A\\u003C/table\\u003E\\u003C/li\\u003E\\u003C/ul\\u003E';\n",
       "                    node.innerHTML = data;\n",
       "                    if (!data) {\n",
       "                        node.style.backgroundColor = '#eee';\n",
       "                    }\n",
       "                }());\n",
       "            "
      ]
     },
     "metadata": {},
     "output_type": "display_data"
    },
    {
     "data": {
      "application/javascript": [
       "\n",
       "                (function(){\n",
       "                    var node = document.getElementById('diligent-f2d4c80e-e3c1-48f0-ae2e-14614b72d880-8-2');\n",
       "                    var data = '';\n",
       "                    node.innerHTML = data;\n",
       "                    if (!data) {\n",
       "                        node.style.backgroundColor = '#eee';\n",
       "                    }\n",
       "                }());\n",
       "            "
      ]
     },
     "metadata": {},
     "output_type": "display_data"
    },
    {
     "data": {
      "application/javascript": [
       "\n",
       "                (function(){\n",
       "                    var node = document.getElementById('diligent-f2d4c80e-e3c1-48f0-ae2e-14614b72d880-10-2');\n",
       "                    var data = '\\u003Cul\\u003E\\u003Cli\\u003EAt 2: 500 data points in sequence are above the mean of 500.1111111111111\\u003C/li\\u003E\\u003Cli\\u003EAt 502: 500 data points in sequence are below the mean of 500.1111111111111\\u003C/li\\u003E\\u003C/ul\\u003E';\n",
       "                    node.innerHTML = data;\n",
       "                    if (!data) {\n",
       "                        node.style.backgroundColor = '#eee';\n",
       "                    }\n",
       "                }());\n",
       "            "
      ]
     },
     "metadata": {},
     "output_type": "display_data"
    },
    {
     "data": {
      "application/javascript": [
       "\n",
       "                (function(){\n",
       "                    var node = document.getElementById('diligent-f2d4c80e-e3c1-48f0-ae2e-14614b72d880-9-2');\n",
       "                    var data = '';\n",
       "                    node.innerHTML = data;\n",
       "                    if (!data) {\n",
       "                        node.style.backgroundColor = '#eee';\n",
       "                    }\n",
       "                }());\n",
       "            "
      ]
     },
     "metadata": {},
     "output_type": "display_data"
    },
    {
     "data": {
      "application/javascript": [
       "\n",
       "                (function(){\n",
       "                    var node = document.getElementById('diligent-f2d4c80e-e3c1-48f0-ae2e-14614b72d880-11-2');\n",
       "                    var data = 'At 2: 1000 data points in sequence are decreasing';\n",
       "                    node.innerHTML = data;\n",
       "                    if (!data) {\n",
       "                        node.style.backgroundColor = '#eee';\n",
       "                    }\n",
       "                }());\n",
       "            "
      ]
     },
     "metadata": {},
     "output_type": "display_data"
    },
    {
     "data": {
      "application/javascript": [
       "\n",
       "                (function(){\n",
       "                    var node = document.getElementById('diligent-f2d4c80e-e3c1-48f0-ae2e-14614b72d880-12-2');\n",
       "                    var data = '';\n",
       "                    node.innerHTML = data;\n",
       "                    if (!data) {\n",
       "                        node.style.backgroundColor = '#eee';\n",
       "                    }\n",
       "                }());\n",
       "            "
      ]
     },
     "metadata": {},
     "output_type": "display_data"
    },
    {
     "data": {
      "application/javascript": [
       "\n",
       "                (function(){\n",
       "                    var node = document.getElementById('diligent-f2d4c80e-e3c1-48f0-ae2e-14614b72d880-17-1');\n",
       "                    var data = '\\u003Cul\\u003E\\u003Cli\\u003EDigit 1 appeared 116, expected 303.0\\u003C/li\\u003E\\u003Cli\\u003EDigit 9 appeared 114, expected 46.0\\u003C/li\\u003E\\u003Cli\\u003EDigit 8 appeared 111, expected 52.0\\u003C/li\\u003E\\u003Cli\\u003EDigit 7 appeared 111, expected 58.0\\u003C/li\\u003E\\u003Cli\\u003EDigit 6 appeared 111, expected 67.0\\u003C/li\\u003E\\u003C/ul\\u003E\\u003Cp\\u003EAnd 4 more, set to verbose to see\\u003C/p\\u003E';\n",
       "                    node.innerHTML = data;\n",
       "                    if (!data) {\n",
       "                        node.style.backgroundColor = '#eee';\n",
       "                    }\n",
       "                }());\n",
       "            "
      ]
     },
     "metadata": {},
     "output_type": "display_data"
    },
    {
     "data": {
      "application/javascript": [
       "\n",
       "                (function(){\n",
       "                    var node = document.getElementById('diligent-f2d4c80e-e3c1-48f0-ae2e-14614b72d880-13-2');\n",
       "                    var data = '';\n",
       "                    node.innerHTML = data;\n",
       "                    if (!data) {\n",
       "                        node.style.backgroundColor = '#eee';\n",
       "                    }\n",
       "                }());\n",
       "            "
      ]
     },
     "metadata": {},
     "output_type": "display_data"
    },
    {
     "data": {
      "application/javascript": [
       "\n",
       "                (function(){\n",
       "                    var node = document.getElementById('diligent-f2d4c80e-e3c1-48f0-ae2e-14614b72d880-16-2');\n",
       "                    var data = '\\u003Cul\\u003E\\u003Cli\\u003EAt 2: 210 points in a row exist with none within 1 standard deviation of the mean and the points are in both directions from the mean.\\u003C/li\\u003E\\u003Cli\\u003EAt 793: 217 points in a row exist with none within 1 standard deviation of the mean and the points are in both directions from the mean.\\u003C/li\\u003E\\u003C/ul\\u003E';\n",
       "                    node.innerHTML = data;\n",
       "                    if (!data) {\n",
       "                        node.style.backgroundColor = '#eee';\n",
       "                    }\n",
       "                }());\n",
       "            "
      ]
     },
     "metadata": {},
     "output_type": "display_data"
    },
    {
     "data": {
      "application/javascript": [
       "\n",
       "                (function(){\n",
       "                    var node = document.getElementById('diligent-f2d4c80e-e3c1-48f0-ae2e-14614b72d880-17-2');\n",
       "                    var data = '\\u003Cul\\u003E\\u003Cli\\u003EDigit 1 appeared 117, expected 303.0\\u003C/li\\u003E\\u003Cli\\u003EDigit 9 appeared 114, expected 46.0\\u003C/li\\u003E\\u003Cli\\u003EDigit 8 appeared 111, expected 52.0\\u003C/li\\u003E\\u003Cli\\u003EDigit 7 appeared 111, expected 58.0\\u003C/li\\u003E\\u003Cli\\u003EDigit 6 appeared 111, expected 67.0\\u003C/li\\u003E\\u003C/ul\\u003E\\u003Cp\\u003EAnd 4 more, set to verbose to see\\u003C/p\\u003E';\n",
       "                    node.innerHTML = data;\n",
       "                    if (!data) {\n",
       "                        node.style.backgroundColor = '#eee';\n",
       "                    }\n",
       "                }());\n",
       "            "
      ]
     },
     "metadata": {},
     "output_type": "display_data"
    },
    {
     "data": {
      "application/javascript": [
       "\n",
       "                (function(){\n",
       "                    var node = document.getElementById('diligent-f2d4c80e-e3c1-48f0-ae2e-14614b72d880-15-2');\n",
       "                    var data = 'At 212: 581 points in a row are all within 1 standard deviation of the mean on either side of the mean.';\n",
       "                    node.innerHTML = data;\n",
       "                    if (!data) {\n",
       "                        node.style.backgroundColor = '#eee';\n",
       "                    }\n",
       "                }());\n",
       "            "
      ]
     },
     "metadata": {},
     "output_type": "display_data"
    },
    {
     "data": {
      "application/javascript": [
       "\n",
       "                (function(){\n",
       "                    var node = document.getElementById('diligent-f2d4c80e-e3c1-48f0-ae2e-14614b72d880-14-2');\n",
       "                    var data = '\\u003Cul\\u003E\\u003Cli\\u003EAt 1: 4 out of 5 points in a row are more than 1 standard deviations above the mean.\\u003C/li\\u003E\\u003Cli\\u003EAt 2: 5 out of 5 points in a row are more than 1 standard deviations above the mean.\\u003C/li\\u003E\\u003Cli\\u003EAt 3: 5 out of 5 points in a row are more than 1 standard deviations above the mean.\\u003C/li\\u003E\\u003Cli\\u003EAt 4: 5 out of 5 points in a row are more than 1 standard deviations above the mean.\\u003C/li\\u003E\\u003Cli\\u003EAt 5: 5 out of 5 points in a row are more than 1 standard deviations above the mean.\\u003C/li\\u003E\\u003C/ul\\u003E\\u003Cp\\u003EAnd 412 more, set to verbose to see\\u003C/p\\u003E';\n",
       "                    node.innerHTML = data;\n",
       "                    if (!data) {\n",
       "                        node.style.backgroundColor = '#eee';\n",
       "                    }\n",
       "                }());\n",
       "            "
      ]
     },
     "metadata": {},
     "output_type": "display_data"
    },
    {
     "data": {
      "application/javascript": [
       "\n",
       "                (function(){\n",
       "                    var node = document.getElementById('diligent-f2d4c80e-e3c1-48f0-ae2e-14614b72d880-4-2');\n",
       "                    var data = '\\u003Cul\\u003E\\u003Cli\\u003EThe value 11.0 appears 1 times\\u003C/li\\u003E\\u003Cli\\u003EThe value 111.0 appears 1 times\\u003C/li\\u003E\\u003Cli\\u003EThe value 22.0 appears 1 times\\u003C/li\\u003E\\u003Cli\\u003EThe value 222.0 appears 1 times\\u003C/li\\u003E\\u003Cli\\u003EThe value 33.0 appears 1 times\\u003C/li\\u003E\\u003C/ul\\u003E\\u003Cp\\u003EAnd 13 more, set to verbose to see\\u003C/p\\u003E';\n",
       "                    node.innerHTML = data;\n",
       "                    if (!data) {\n",
       "                        node.style.backgroundColor = '#eee';\n",
       "                    }\n",
       "                }());\n",
       "            "
      ]
     },
     "metadata": {},
     "output_type": "display_data"
    },
    {
     "data": {
      "text/html": [],
      "text/plain": [
       "<diligent.diligent.DiligentReport at 0x1088e6eb8>"
      ]
     },
     "execution_count": 3,
     "metadata": {},
     "output_type": "execute_result"
    }
   ],
   "source": [
    "test_df = pd.DataFrame({'a': [None] + [x for x in range(1000)] + ([999] * 3) + ([123] * 5) + [None],\n",
    "                        'b': [None, None] + [x for x in range(1000, 0, -1)] + ([999] * 3) + ([123] * 5)})\n",
    "\n",
    "diligent(test_df)"
   ]
  },
  {
   "cell_type": "code",
   "execution_count": 4,
   "metadata": {
    "collapsed": false
   },
   "outputs": [
    {
     "data": {
      "text/html": [
       "<table><thead><tr><th>Check</th><th>Dataframe</th><th>alternate</th><th>linear</th><th>random</th></tr></thead><tbody><tr><th>Data Type</th><td style=\"background: #ddd\"></td><td id=\"diligent-0aeaaf86-76cc-4d1f-a06b-5d271f6f28c9-0-1\">&hellip;</td><td id=\"diligent-0aeaaf86-76cc-4d1f-a06b-5d271f6f28c9-0-2\">&hellip;</td><td id=\"diligent-0aeaaf86-76cc-4d1f-a06b-5d271f6f28c9-0-3\">&hellip;</td></tr><tr><th>Count NaN</th><td style=\"background: #ddd\"></td><td id=\"diligent-0aeaaf86-76cc-4d1f-a06b-5d271f6f28c9-1-1\">&hellip;</td><td id=\"diligent-0aeaaf86-76cc-4d1f-a06b-5d271f6f28c9-1-2\">&hellip;</td><td id=\"diligent-0aeaaf86-76cc-4d1f-a06b-5d271f6f28c9-1-3\">&hellip;</td></tr><tr><th>Count Zeroes</th><td style=\"background: #ddd\"></td><td id=\"diligent-0aeaaf86-76cc-4d1f-a06b-5d271f6f28c9-2-1\">&hellip;</td><td id=\"diligent-0aeaaf86-76cc-4d1f-a06b-5d271f6f28c9-2-2\">&hellip;</td><td id=\"diligent-0aeaaf86-76cc-4d1f-a06b-5d271f6f28c9-2-3\">&hellip;</td></tr><tr><th>Detect suspicious values</th><td style=\"background: #ddd\"></td><td id=\"diligent-0aeaaf86-76cc-4d1f-a06b-5d271f6f28c9-3-1\">&hellip;</td><td id=\"diligent-0aeaaf86-76cc-4d1f-a06b-5d271f6f28c9-3-2\">&hellip;</td><td id=\"diligent-0aeaaf86-76cc-4d1f-a06b-5d271f6f28c9-3-3\">&hellip;</td></tr><tr><th>Detect repeated digits</th><td style=\"background: #ddd\"></td><td id=\"diligent-0aeaaf86-76cc-4d1f-a06b-5d271f6f28c9-4-1\">&hellip;</td><td id=\"diligent-0aeaaf86-76cc-4d1f-a06b-5d271f6f28c9-4-2\">&hellip;</td><td id=\"diligent-0aeaaf86-76cc-4d1f-a06b-5d271f6f28c9-4-3\">&hellip;</td></tr><tr><th>Susipicous dataframe length</th><td id=\"diligent-0aeaaf86-76cc-4d1f-a06b-5d271f6f28c9-5-0\">&hellip;</td><td style=\"background: #ddd\"></td><td style=\"background: #ddd\"></td><td style=\"background: #ddd\"></td></tr><tr><th>Duplicate rows</th><td id=\"diligent-0aeaaf86-76cc-4d1f-a06b-5d271f6f28c9-6-0\">&hellip;</td><td style=\"background: #ddd\"></td><td style=\"background: #ddd\"></td><td style=\"background: #ddd\"></td></tr><tr><th>Duplicate values</th><td style=\"background: #ddd\"></td><td id=\"diligent-0aeaaf86-76cc-4d1f-a06b-5d271f6f28c9-7-1\">&hellip;</td><td id=\"diligent-0aeaaf86-76cc-4d1f-a06b-5d271f6f28c9-7-2\">&hellip;</td><td id=\"diligent-0aeaaf86-76cc-4d1f-a06b-5d271f6f28c9-7-3\">&hellip;</td></tr><tr><th>Possibly numeric</th><td style=\"background: #ddd\"></td><td id=\"diligent-0aeaaf86-76cc-4d1f-a06b-5d271f6f28c9-8-1\">&hellip;</td><td id=\"diligent-0aeaaf86-76cc-4d1f-a06b-5d271f6f28c9-8-2\">&hellip;</td><td id=\"diligent-0aeaaf86-76cc-4d1f-a06b-5d271f6f28c9-8-3\">&hellip;</td></tr><tr><th>Nelson Rule 1</th><td style=\"background: #ddd\"></td><td id=\"diligent-0aeaaf86-76cc-4d1f-a06b-5d271f6f28c9-9-1\">&hellip;</td><td id=\"diligent-0aeaaf86-76cc-4d1f-a06b-5d271f6f28c9-9-2\">&hellip;</td><td id=\"diligent-0aeaaf86-76cc-4d1f-a06b-5d271f6f28c9-9-3\">&hellip;</td></tr><tr><th>Nelson Rule 2</th><td style=\"background: #ddd\"></td><td id=\"diligent-0aeaaf86-76cc-4d1f-a06b-5d271f6f28c9-10-1\">&hellip;</td><td id=\"diligent-0aeaaf86-76cc-4d1f-a06b-5d271f6f28c9-10-2\">&hellip;</td><td id=\"diligent-0aeaaf86-76cc-4d1f-a06b-5d271f6f28c9-10-3\">&hellip;</td></tr><tr><th>Nelson Rule 3</th><td style=\"background: #ddd\"></td><td id=\"diligent-0aeaaf86-76cc-4d1f-a06b-5d271f6f28c9-11-1\">&hellip;</td><td id=\"diligent-0aeaaf86-76cc-4d1f-a06b-5d271f6f28c9-11-2\">&hellip;</td><td id=\"diligent-0aeaaf86-76cc-4d1f-a06b-5d271f6f28c9-11-3\">&hellip;</td></tr><tr><th>Nelson Rule 4</th><td style=\"background: #ddd\"></td><td id=\"diligent-0aeaaf86-76cc-4d1f-a06b-5d271f6f28c9-12-1\">&hellip;</td><td id=\"diligent-0aeaaf86-76cc-4d1f-a06b-5d271f6f28c9-12-2\">&hellip;</td><td id=\"diligent-0aeaaf86-76cc-4d1f-a06b-5d271f6f28c9-12-3\">&hellip;</td></tr><tr><th>Nelson Rule 5</th><td style=\"background: #ddd\"></td><td id=\"diligent-0aeaaf86-76cc-4d1f-a06b-5d271f6f28c9-13-1\">&hellip;</td><td id=\"diligent-0aeaaf86-76cc-4d1f-a06b-5d271f6f28c9-13-2\">&hellip;</td><td id=\"diligent-0aeaaf86-76cc-4d1f-a06b-5d271f6f28c9-13-3\">&hellip;</td></tr><tr><th>Nelson Rule 6</th><td style=\"background: #ddd\"></td><td id=\"diligent-0aeaaf86-76cc-4d1f-a06b-5d271f6f28c9-14-1\">&hellip;</td><td id=\"diligent-0aeaaf86-76cc-4d1f-a06b-5d271f6f28c9-14-2\">&hellip;</td><td id=\"diligent-0aeaaf86-76cc-4d1f-a06b-5d271f6f28c9-14-3\">&hellip;</td></tr><tr><th>Nelson Rule 7</th><td style=\"background: #ddd\"></td><td id=\"diligent-0aeaaf86-76cc-4d1f-a06b-5d271f6f28c9-15-1\">&hellip;</td><td id=\"diligent-0aeaaf86-76cc-4d1f-a06b-5d271f6f28c9-15-2\">&hellip;</td><td id=\"diligent-0aeaaf86-76cc-4d1f-a06b-5d271f6f28c9-15-3\">&hellip;</td></tr><tr><th>Nelson Rule 8</th><td style=\"background: #ddd\"></td><td id=\"diligent-0aeaaf86-76cc-4d1f-a06b-5d271f6f28c9-16-1\">&hellip;</td><td id=\"diligent-0aeaaf86-76cc-4d1f-a06b-5d271f6f28c9-16-2\">&hellip;</td><td id=\"diligent-0aeaaf86-76cc-4d1f-a06b-5d271f6f28c9-16-3\">&hellip;</td></tr><tr><th>Benford's law</th><td style=\"background: #ddd\"></td><td id=\"diligent-0aeaaf86-76cc-4d1f-a06b-5d271f6f28c9-17-1\">&hellip;</td><td id=\"diligent-0aeaaf86-76cc-4d1f-a06b-5d271f6f28c9-17-2\">&hellip;</td><td id=\"diligent-0aeaaf86-76cc-4d1f-a06b-5d271f6f28c9-17-3\">&hellip;</td></tr></tbody></table>"
      ],
      "text/plain": [
       "<IPython.core.display.HTML object>"
      ]
     },
     "metadata": {},
     "output_type": "display_data"
    },
    {
     "data": {
      "application/javascript": [
       "\n",
       "                (function(){\n",
       "                    var node = document.getElementById('diligent-0aeaaf86-76cc-4d1f-a06b-5d271f6f28c9-5-0');\n",
       "                    var data = '';\n",
       "                    node.innerHTML = data;\n",
       "                    if (!data) {\n",
       "                        node.style.backgroundColor = '#eee';\n",
       "                    }\n",
       "                }());\n",
       "            "
      ]
     },
     "metadata": {},
     "output_type": "display_data"
    },
    {
     "data": {
      "application/javascript": [
       "\n",
       "                (function(){\n",
       "                    var node = document.getElementById('diligent-0aeaaf86-76cc-4d1f-a06b-5d271f6f28c9-0-1');\n",
       "                    var data = 'int64';\n",
       "                    node.innerHTML = data;\n",
       "                    if (!data) {\n",
       "                        node.style.backgroundColor = '#eee';\n",
       "                    }\n",
       "                }());\n",
       "            "
      ]
     },
     "metadata": {},
     "output_type": "display_data"
    },
    {
     "data": {
      "application/javascript": [
       "\n",
       "                (function(){\n",
       "                    var node = document.getElementById('diligent-0aeaaf86-76cc-4d1f-a06b-5d271f6f28c9-1-1');\n",
       "                    var data = '0 NaN values';\n",
       "                    node.innerHTML = data;\n",
       "                    if (!data) {\n",
       "                        node.style.backgroundColor = '#eee';\n",
       "                    }\n",
       "                }());\n",
       "            "
      ]
     },
     "metadata": {},
     "output_type": "display_data"
    },
    {
     "data": {
      "application/javascript": [
       "\n",
       "                (function(){\n",
       "                    var node = document.getElementById('diligent-0aeaaf86-76cc-4d1f-a06b-5d271f6f28c9-2-1');\n",
       "                    var data = '1 values are 0';\n",
       "                    node.innerHTML = data;\n",
       "                    if (!data) {\n",
       "                        node.style.backgroundColor = '#eee';\n",
       "                    }\n",
       "                }());\n",
       "            "
      ]
     },
     "metadata": {},
     "output_type": "display_data"
    },
    {
     "data": {
      "application/javascript": [
       "\n",
       "                (function(){\n",
       "                    var node = document.getElementById('diligent-0aeaaf86-76cc-4d1f-a06b-5d271f6f28c9-6-0');\n",
       "                    var data = '';\n",
       "                    node.innerHTML = data;\n",
       "                    if (!data) {\n",
       "                        node.style.backgroundColor = '#eee';\n",
       "                    }\n",
       "                }());\n",
       "            "
      ]
     },
     "metadata": {},
     "output_type": "display_data"
    },
    {
     "data": {
      "application/javascript": [
       "\n",
       "                (function(){\n",
       "                    var node = document.getElementById('diligent-0aeaaf86-76cc-4d1f-a06b-5d271f6f28c9-3-1');\n",
       "                    var data = '';\n",
       "                    node.innerHTML = data;\n",
       "                    if (!data) {\n",
       "                        node.style.backgroundColor = '#eee';\n",
       "                    }\n",
       "                }());\n",
       "            "
      ]
     },
     "metadata": {},
     "output_type": "display_data"
    },
    {
     "data": {
      "application/javascript": [
       "\n",
       "                (function(){\n",
       "                    var node = document.getElementById('diligent-0aeaaf86-76cc-4d1f-a06b-5d271f6f28c9-8-1');\n",
       "                    var data = '';\n",
       "                    node.innerHTML = data;\n",
       "                    if (!data) {\n",
       "                        node.style.backgroundColor = '#eee';\n",
       "                    }\n",
       "                }());\n",
       "            "
      ]
     },
     "metadata": {},
     "output_type": "display_data"
    },
    {
     "data": {
      "application/javascript": [
       "\n",
       "                (function(){\n",
       "                    var node = document.getElementById('diligent-0aeaaf86-76cc-4d1f-a06b-5d271f6f28c9-9-1');\n",
       "                    var data = '';\n",
       "                    node.innerHTML = data;\n",
       "                    if (!data) {\n",
       "                        node.style.backgroundColor = '#eee';\n",
       "                    }\n",
       "                }());\n",
       "            "
      ]
     },
     "metadata": {},
     "output_type": "display_data"
    },
    {
     "data": {
      "application/javascript": [
       "\n",
       "                (function(){\n",
       "                    var node = document.getElementById('diligent-0aeaaf86-76cc-4d1f-a06b-5d271f6f28c9-10-1');\n",
       "                    var data = '\\u003Cul\\u003E\\u003Cli\\u003EAt 0: 376 data points in sequence are below the mean of 371.42616451932605\\u003C/li\\u003E\\u003Cli\\u003EAt 746: 258 data points in sequence are above the mean of 371.42616451932605\\u003C/li\\u003E\\u003C/ul\\u003E';\n",
       "                    node.innerHTML = data;\n",
       "                    if (!data) {\n",
       "                        node.style.backgroundColor = '#eee';\n",
       "                    }\n",
       "                }());\n",
       "            "
      ]
     },
     "metadata": {},
     "output_type": "display_data"
    },
    {
     "data": {
      "application/javascript": [
       "\n",
       "                (function(){\n",
       "                    var node = document.getElementById('diligent-0aeaaf86-76cc-4d1f-a06b-5d271f6f28c9-12-1');\n",
       "                    var data = 'At 7: 997 data points in sequence alternate in direction';\n",
       "                    node.innerHTML = data;\n",
       "                    if (!data) {\n",
       "                        node.style.backgroundColor = '#eee';\n",
       "                    }\n",
       "                }());\n",
       "            "
      ]
     },
     "metadata": {},
     "output_type": "display_data"
    },
    {
     "data": {
      "application/javascript": [
       "\n",
       "                (function(){\n",
       "                    var node = document.getElementById('diligent-0aeaaf86-76cc-4d1f-a06b-5d271f6f28c9-11-1');\n",
       "                    var data = '';\n",
       "                    node.innerHTML = data;\n",
       "                    if (!data) {\n",
       "                        node.style.backgroundColor = '#eee';\n",
       "                    }\n",
       "                }());\n",
       "            "
      ]
     },
     "metadata": {},
     "output_type": "display_data"
    },
    {
     "data": {
      "application/javascript": [
       "\n",
       "                (function(){\n",
       "                    var node = document.getElementById('diligent-0aeaaf86-76cc-4d1f-a06b-5d271f6f28c9-4-1');\n",
       "                    var data = '\\u003Cul\\u003E\\u003Cli\\u003EThe value 11.0 appears 1 times\\u003C/li\\u003E\\u003Cli\\u003EThe value 111.0 appears 1 times\\u003C/li\\u003E\\u003Cli\\u003EThe value 22.0 appears 2 times\\u003C/li\\u003E\\u003Cli\\u003EThe value 222.0 appears 2 times\\u003C/li\\u003E\\u003Cli\\u003EThe value 33.0 appears 1 times\\u003C/li\\u003E\\u003C/ul\\u003E\\u003Cp\\u003EAnd 10 more, set to verbose to see\\u003C/p\\u003E';\n",
       "                    node.innerHTML = data;\n",
       "                    if (!data) {\n",
       "                        node.style.backgroundColor = '#eee';\n",
       "                    }\n",
       "                }());\n",
       "            "
      ]
     },
     "metadata": {},
     "output_type": "display_data"
    },
    {
     "data": {
      "application/javascript": [
       "\n",
       "                (function(){\n",
       "                    var node = document.getElementById('diligent-0aeaaf86-76cc-4d1f-a06b-5d271f6f28c9-13-1');\n",
       "                    var data = '\\u003Cul\\u003E\\u003Cli\\u003EAt 898: 2 out of 3 points in a row are more than 2 standard deviations above the mean.\\u003C/li\\u003E\\u003Cli\\u003EAt 900: 2 out of 3 points in a row are more than 2 standard deviations above the mean.\\u003C/li\\u003E\\u003Cli\\u003EAt 902: 2 out of 3 points in a row are more than 2 standard deviations above the mean.\\u003C/li\\u003E\\u003Cli\\u003EAt 904: 2 out of 3 points in a row are more than 2 standard deviations above the mean.\\u003C/li\\u003E\\u003Cli\\u003EAt 906: 2 out of 3 points in a row are more than 2 standard deviations above the mean.\\u003C/li\\u003E\\u003C/ul\\u003E\\u003Cp\\u003EAnd 47 more, set to verbose to see\\u003C/p\\u003E';\n",
       "                    node.innerHTML = data;\n",
       "                    if (!data) {\n",
       "                        node.style.backgroundColor = '#eee';\n",
       "                    }\n",
       "                }());\n",
       "            "
      ]
     },
     "metadata": {},
     "output_type": "display_data"
    },
    {
     "data": {
      "application/javascript": [
       "\n",
       "                (function(){\n",
       "                    var node = document.getElementById('diligent-0aeaaf86-76cc-4d1f-a06b-5d271f6f28c9-14-1');\n",
       "                    var data = '\\u003Cul\\u003E\\u003Cli\\u003EAt 0: 5 out of 5 points in a row are more than 1 standard deviations below the mean.\\u003C/li\\u003E\\u003Cli\\u003EAt 1: 5 out of 5 points in a row are more than 1 standard deviations below the mean.\\u003C/li\\u003E\\u003Cli\\u003EAt 2: 5 out of 5 points in a row are more than 1 standard deviations below the mean.\\u003C/li\\u003E\\u003Cli\\u003EAt 3: 5 out of 5 points in a row are more than 1 standard deviations below the mean.\\u003C/li\\u003E\\u003Cli\\u003EAt 4: 5 out of 5 points in a row are more than 1 standard deviations below the mean.\\u003C/li\\u003E\\u003C/ul\\u003E\\u003Cp\\u003EAnd 111 more, set to verbose to see\\u003C/p\\u003E';\n",
       "                    node.innerHTML = data;\n",
       "                    if (!data) {\n",
       "                        node.style.backgroundColor = '#eee';\n",
       "                    }\n",
       "                }());\n",
       "            "
      ]
     },
     "metadata": {},
     "output_type": "display_data"
    },
    {
     "data": {
      "application/javascript": [
       "\n",
       "                (function(){\n",
       "                    var node = document.getElementById('diligent-0aeaaf86-76cc-4d1f-a06b-5d271f6f28c9-17-1');\n",
       "                    var data = '\\u003Cul\\u003E\\u003Cli\\u003EDigit 1 appeared 171, expected 303.0\\u003C/li\\u003E\\u003Cli\\u003EDigit 4 appeared 168, expected 98.0\\u003C/li\\u003E\\u003Cli\\u003EDigit 2 appeared 168, expected 177.0\\u003C/li\\u003E\\u003Cli\\u003EDigit 3 appeared 167, expected 126.0\\u003C/li\\u003E\\u003Cli\\u003EDigit 5 appeared 68, expected 80.0\\u003C/li\\u003E\\u003C/ul\\u003E\\u003Cp\\u003EAnd 4 more, set to verbose to see\\u003C/p\\u003E';\n",
       "                    node.innerHTML = data;\n",
       "                    if (!data) {\n",
       "                        node.style.backgroundColor = '#eee';\n",
       "                    }\n",
       "                }());\n",
       "            "
      ]
     },
     "metadata": {},
     "output_type": "display_data"
    },
    {
     "data": {
      "application/javascript": [
       "\n",
       "                (function(){\n",
       "                    var node = document.getElementById('diligent-0aeaaf86-76cc-4d1f-a06b-5d271f6f28c9-0-2');\n",
       "                    var data = 'int64';\n",
       "                    node.innerHTML = data;\n",
       "                    if (!data) {\n",
       "                        node.style.backgroundColor = '#eee';\n",
       "                    }\n",
       "                }());\n",
       "            "
      ]
     },
     "metadata": {},
     "output_type": "display_data"
    },
    {
     "data": {
      "application/javascript": [
       "\n",
       "                (function(){\n",
       "                    var node = document.getElementById('diligent-0aeaaf86-76cc-4d1f-a06b-5d271f6f28c9-1-2');\n",
       "                    var data = '0 NaN values';\n",
       "                    node.innerHTML = data;\n",
       "                    if (!data) {\n",
       "                        node.style.backgroundColor = '#eee';\n",
       "                    }\n",
       "                }());\n",
       "            "
      ]
     },
     "metadata": {},
     "output_type": "display_data"
    },
    {
     "data": {
      "application/javascript": [
       "\n",
       "                (function(){\n",
       "                    var node = document.getElementById('diligent-0aeaaf86-76cc-4d1f-a06b-5d271f6f28c9-2-2');\n",
       "                    var data = '1 values are 0';\n",
       "                    node.innerHTML = data;\n",
       "                    if (!data) {\n",
       "                        node.style.backgroundColor = '#eee';\n",
       "                    }\n",
       "                }());\n",
       "            "
      ]
     },
     "metadata": {},
     "output_type": "display_data"
    },
    {
     "data": {
      "application/javascript": [
       "\n",
       "                (function(){\n",
       "                    var node = document.getElementById('diligent-0aeaaf86-76cc-4d1f-a06b-5d271f6f28c9-3-2');\n",
       "                    var data = '';\n",
       "                    node.innerHTML = data;\n",
       "                    if (!data) {\n",
       "                        node.style.backgroundColor = '#eee';\n",
       "                    }\n",
       "                }());\n",
       "            "
      ]
     },
     "metadata": {},
     "output_type": "display_data"
    },
    {
     "data": {
      "application/javascript": [
       "\n",
       "                (function(){\n",
       "                    var node = document.getElementById('diligent-0aeaaf86-76cc-4d1f-a06b-5d271f6f28c9-15-1');\n",
       "                    var data = 'At 224: 414 points in a row are all within 1 standard deviation of the mean on either side of the mean.';\n",
       "                    node.innerHTML = data;\n",
       "                    if (!data) {\n",
       "                        node.style.backgroundColor = '#eee';\n",
       "                    }\n",
       "                }());\n",
       "            "
      ]
     },
     "metadata": {},
     "output_type": "display_data"
    },
    {
     "data": {
      "application/javascript": [
       "\n",
       "                (function(){\n",
       "                    var node = document.getElementById('diligent-0aeaaf86-76cc-4d1f-a06b-5d271f6f28c9-7-2');\n",
       "                    var data = '';\n",
       "                    node.innerHTML = data;\n",
       "                    if (!data) {\n",
       "                        node.style.backgroundColor = '#eee';\n",
       "                    }\n",
       "                }());\n",
       "            "
      ]
     },
     "metadata": {},
     "output_type": "display_data"
    },
    {
     "data": {
      "application/javascript": [
       "\n",
       "                (function(){\n",
       "                    var node = document.getElementById('diligent-0aeaaf86-76cc-4d1f-a06b-5d271f6f28c9-8-2');\n",
       "                    var data = '';\n",
       "                    node.innerHTML = data;\n",
       "                    if (!data) {\n",
       "                        node.style.backgroundColor = '#eee';\n",
       "                    }\n",
       "                }());\n",
       "            "
      ]
     },
     "metadata": {},
     "output_type": "display_data"
    },
    {
     "data": {
      "application/javascript": [
       "\n",
       "                (function(){\n",
       "                    var node = document.getElementById('diligent-0aeaaf86-76cc-4d1f-a06b-5d271f6f28c9-4-2');\n",
       "                    var data = '\\u003Cul\\u003E\\u003Cli\\u003EThe value 11.0 appears 1 times\\u003C/li\\u003E\\u003Cli\\u003EThe value 111.0 appears 1 times\\u003C/li\\u003E\\u003Cli\\u003EThe value 22.0 appears 1 times\\u003C/li\\u003E\\u003Cli\\u003EThe value 222.0 appears 1 times\\u003C/li\\u003E\\u003Cli\\u003EThe value 33.0 appears 1 times\\u003C/li\\u003E\\u003C/ul\\u003E\\u003Cp\\u003EAnd 13 more, set to verbose to see\\u003C/p\\u003E';\n",
       "                    node.innerHTML = data;\n",
       "                    if (!data) {\n",
       "                        node.style.backgroundColor = '#eee';\n",
       "                    }\n",
       "                }());\n",
       "            "
      ]
     },
     "metadata": {},
     "output_type": "display_data"
    },
    {
     "data": {
      "application/javascript": [
       "\n",
       "                (function(){\n",
       "                    var node = document.getElementById('diligent-0aeaaf86-76cc-4d1f-a06b-5d271f6f28c9-9-2');\n",
       "                    var data = '';\n",
       "                    node.innerHTML = data;\n",
       "                    if (!data) {\n",
       "                        node.style.backgroundColor = '#eee';\n",
       "                    }\n",
       "                }());\n",
       "            "
      ]
     },
     "metadata": {},
     "output_type": "display_data"
    },
    {
     "data": {
      "application/javascript": [
       "\n",
       "                (function(){\n",
       "                    var node = document.getElementById('diligent-0aeaaf86-76cc-4d1f-a06b-5d271f6f28c9-10-2');\n",
       "                    var data = 'At 505: 504 data points in sequence are above the mean of 504.0';\n",
       "                    node.innerHTML = data;\n",
       "                    if (!data) {\n",
       "                        node.style.backgroundColor = '#eee';\n",
       "                    }\n",
       "                }());\n",
       "            "
      ]
     },
     "metadata": {},
     "output_type": "display_data"
    },
    {
     "data": {
      "application/javascript": [
       "\n",
       "                (function(){\n",
       "                    var node = document.getElementById('diligent-0aeaaf86-76cc-4d1f-a06b-5d271f6f28c9-16-1');\n",
       "                    var data = 'At 0: 116 points in a row exist with none within 1 standard deviation of the mean and the points are in both directions from the mean.';\n",
       "                    node.innerHTML = data;\n",
       "                    if (!data) {\n",
       "                        node.style.backgroundColor = '#eee';\n",
       "                    }\n",
       "                }());\n",
       "            "
      ]
     },
     "metadata": {},
     "output_type": "display_data"
    },
    {
     "data": {
      "application/javascript": [
       "\n",
       "                (function(){\n",
       "                    var node = document.getElementById('diligent-0aeaaf86-76cc-4d1f-a06b-5d271f6f28c9-12-2');\n",
       "                    var data = '';\n",
       "                    node.innerHTML = data;\n",
       "                    if (!data) {\n",
       "                        node.style.backgroundColor = '#eee';\n",
       "                    }\n",
       "                }());\n",
       "            "
      ]
     },
     "metadata": {},
     "output_type": "display_data"
    },
    {
     "data": {
      "application/javascript": [
       "\n",
       "                (function(){\n",
       "                    var node = document.getElementById('diligent-0aeaaf86-76cc-4d1f-a06b-5d271f6f28c9-11-2');\n",
       "                    var data = 'At 0: 1009 data points in sequence are increasing';\n",
       "                    node.innerHTML = data;\n",
       "                    if (!data) {\n",
       "                        node.style.backgroundColor = '#eee';\n",
       "                    }\n",
       "                }());\n",
       "            "
      ]
     },
     "metadata": {},
     "output_type": "display_data"
    },
    {
     "data": {
      "application/javascript": [
       "\n",
       "                (function(){\n",
       "                    var node = document.getElementById('diligent-0aeaaf86-76cc-4d1f-a06b-5d271f6f28c9-13-2');\n",
       "                    var data = '';\n",
       "                    node.innerHTML = data;\n",
       "                    if (!data) {\n",
       "                        node.style.backgroundColor = '#eee';\n",
       "                    }\n",
       "                }());\n",
       "            "
      ]
     },
     "metadata": {},
     "output_type": "display_data"
    },
    {
     "data": {
      "application/javascript": [
       "\n",
       "                (function(){\n",
       "                    var node = document.getElementById('diligent-0aeaaf86-76cc-4d1f-a06b-5d271f6f28c9-7-1');\n",
       "                    var data = '\\u003Cul\\u003E\\u003Cli\\u003E\\u003Ch4\\u003E5 duplicates for the value 1\\u003C/h4\\u003E\\u003Ctable border\\u003D\\u00221\\u0022 class\\u003D\\u0022dataframe\\u0022\\u003E\\u000A  \\u003Cthead\\u003E\\u000A    \\u003Ctr style\\u003D\\u0022text\\u002Dalign: right\\u003B\\u0022\\u003E\\u000A      \\u003Cth\\u003E\\u003C/th\\u003E\\u000A      \\u003Cth\\u003Ealternate\\u003C/th\\u003E\\u000A      \\u003Cth\\u003Elinear\\u003C/th\\u003E\\u000A      \\u003Cth\\u003Erandom\\u003C/th\\u003E\\u000A    \\u003C/tr\\u003E\\u000A  \\u003C/thead\\u003E\\u000A  \\u003Ctbody\\u003E\\u000A    \\u003Ctr\\u003E\\u000A      \\u003Cth\\u003E0\\u003C/th\\u003E\\u000A      \\u003Ctd\\u003E1\\u003C/td\\u003E\\u000A      \\u003Ctd\\u003E0\\u003C/td\\u003E\\u000A      \\u003Ctd\\u003E0.558909\\u003C/td\\u003E\\u000A    \\u003C/tr\\u003E\\u000A  \\u003C/tbody\\u003E\\u000A\\u003C/table\\u003E\\u003C/li\\u003E\\u003Cli\\u003E\\u003Ch4\\u003E2 duplicates for the value 2\\u003C/h4\\u003E\\u003Ctable border\\u003D\\u00221\\u0022 class\\u003D\\u0022dataframe\\u0022\\u003E\\u000A  \\u003Cthead\\u003E\\u000A    \\u003Ctr style\\u003D\\u0022text\\u002Dalign: right\\u003B\\u0022\\u003E\\u000A      \\u003Cth\\u003E\\u003C/th\\u003E\\u000A      \\u003Cth\\u003Ealternate\\u003C/th\\u003E\\u000A      \\u003Cth\\u003Elinear\\u003C/th\\u003E\\u000A      \\u003Cth\\u003Erandom\\u003C/th\\u003E\\u000A    \\u003C/tr\\u003E\\u000A  \\u003C/thead\\u003E\\u000A  \\u003Ctbody\\u003E\\u000A    \\u003Ctr\\u003E\\u000A      \\u003Cth\\u003E0\\u003C/th\\u003E\\u000A      \\u003Ctd\\u003E1\\u003C/td\\u003E\\u000A      \\u003Ctd\\u003E0\\u003C/td\\u003E\\u000A      \\u003Ctd\\u003E0.558909\\u003C/td\\u003E\\u000A    \\u003C/tr\\u003E\\u000A  \\u003C/tbody\\u003E\\u000A\\u003C/table\\u003E\\u003C/li\\u003E\\u003Cli\\u003E\\u003Ch4\\u003E2 duplicates for the value 4\\u003C/h4\\u003E\\u003Ctable border\\u003D\\u00221\\u0022 class\\u003D\\u0022dataframe\\u0022\\u003E\\u000A  \\u003Cthead\\u003E\\u000A    \\u003Ctr style\\u003D\\u0022text\\u002Dalign: right\\u003B\\u0022\\u003E\\u000A      \\u003Cth\\u003E\\u003C/th\\u003E\\u000A      \\u003Cth\\u003Ealternate\\u003C/th\\u003E\\u000A      \\u003Cth\\u003Elinear\\u003C/th\\u003E\\u000A      \\u003Cth\\u003Erandom\\u003C/th\\u003E\\u000A    \\u003C/tr\\u003E\\u000A  \\u003C/thead\\u003E\\u000A  \\u003Ctbody\\u003E\\u000A    \\u003Ctr\\u003E\\u000A      \\u003Cth\\u003E0\\u003C/th\\u003E\\u000A      \\u003Ctd\\u003E1\\u003C/td\\u003E\\u000A      \\u003Ctd\\u003E0\\u003C/td\\u003E\\u000A      \\u003Ctd\\u003E0.558909\\u003C/td\\u003E\\u000A    \\u003C/tr\\u003E\\u000A  \\u003C/tbody\\u003E\\u000A\\u003C/table\\u003E\\u003C/li\\u003E\\u003Cli\\u003E\\u003Ch4\\u003E1 duplicates for the value 3\\u003C/h4\\u003E\\u003Ctable border\\u003D\\u00221\\u0022 class\\u003D\\u0022dataframe\\u0022\\u003E\\u000A  \\u003Cthead\\u003E\\u000A    \\u003Ctr style\\u003D\\u0022text\\u002Dalign: right\\u003B\\u0022\\u003E\\u000A      \\u003Cth\\u003E\\u003C/th\\u003E\\u000A      \\u003Cth\\u003Ealternate\\u003C/th\\u003E\\u000A      \\u003Cth\\u003Elinear\\u003C/th\\u003E\\u000A      \\u003Cth\\u003Erandom\\u003C/th\\u003E\\u000A    \\u003C/tr\\u003E\\u000A  \\u003C/thead\\u003E\\u000A  \\u003Ctbody\\u003E\\u000A    \\u003Ctr\\u003E\\u000A      \\u003Cth\\u003E0\\u003C/th\\u003E\\u000A      \\u003Ctd\\u003E1\\u003C/td\\u003E\\u000A      \\u003Ctd\\u003E0\\u003C/td\\u003E\\u000A      \\u003Ctd\\u003E0.558909\\u003C/td\\u003E\\u000A    \\u003C/tr\\u003E\\u000A  \\u003C/tbody\\u003E\\u000A\\u003C/table\\u003E\\u003C/li\\u003E\\u003Cli\\u003E\\u003Ch4\\u003E1 duplicates for the value 6\\u003C/h4\\u003E\\u003Ctable border\\u003D\\u00221\\u0022 class\\u003D\\u0022dataframe\\u0022\\u003E\\u000A  \\u003Cthead\\u003E\\u000A    \\u003Ctr style\\u003D\\u0022text\\u002Dalign: right\\u003B\\u0022\\u003E\\u000A      \\u003Cth\\u003E\\u003C/th\\u003E\\u000A      \\u003Cth\\u003Ealternate\\u003C/th\\u003E\\u000A      \\u003Cth\\u003Elinear\\u003C/th\\u003E\\u000A      \\u003Cth\\u003Erandom\\u003C/th\\u003E\\u000A    \\u003C/tr\\u003E\\u000A  \\u003C/thead\\u003E\\u000A  \\u003Ctbody\\u003E\\u000A    \\u003Ctr\\u003E\\u000A      \\u003Cth\\u003E0\\u003C/th\\u003E\\u000A      \\u003Ctd\\u003E1\\u003C/td\\u003E\\u000A      \\u003Ctd\\u003E0\\u003C/td\\u003E\\u000A      \\u003Ctd\\u003E0.558909\\u003C/td\\u003E\\u000A    \\u003C/tr\\u003E\\u000A  \\u003C/tbody\\u003E\\u000A\\u003C/table\\u003E\\u003C/li\\u003E\\u003C/ul\\u003E\\u003Cp\\u003EAnd 248 more, set to verbose to see\\u003C/p\\u003E';\n",
       "                    node.innerHTML = data;\n",
       "                    if (!data) {\n",
       "                        node.style.backgroundColor = '#eee';\n",
       "                    }\n",
       "                }());\n",
       "            "
      ]
     },
     "metadata": {},
     "output_type": "display_data"
    },
    {
     "data": {
      "application/javascript": [
       "\n",
       "                (function(){\n",
       "                    var node = document.getElementById('diligent-0aeaaf86-76cc-4d1f-a06b-5d271f6f28c9-15-2');\n",
       "                    var data = 'At 213: 583 points in a row are all within 1 standard deviation of the mean on either side of the mean.';\n",
       "                    node.innerHTML = data;\n",
       "                    if (!data) {\n",
       "                        node.style.backgroundColor = '#eee';\n",
       "                    }\n",
       "                }());\n",
       "            "
      ]
     },
     "metadata": {},
     "output_type": "display_data"
    },
    {
     "data": {
      "application/javascript": [
       "\n",
       "                (function(){\n",
       "                    var node = document.getElementById('diligent-0aeaaf86-76cc-4d1f-a06b-5d271f6f28c9-0-3');\n",
       "                    var data = 'float64';\n",
       "                    node.innerHTML = data;\n",
       "                    if (!data) {\n",
       "                        node.style.backgroundColor = '#eee';\n",
       "                    }\n",
       "                }());\n",
       "            "
      ]
     },
     "metadata": {},
     "output_type": "display_data"
    },
    {
     "data": {
      "application/javascript": [
       "\n",
       "                (function(){\n",
       "                    var node = document.getElementById('diligent-0aeaaf86-76cc-4d1f-a06b-5d271f6f28c9-1-3');\n",
       "                    var data = '0 NaN values';\n",
       "                    node.innerHTML = data;\n",
       "                    if (!data) {\n",
       "                        node.style.backgroundColor = '#eee';\n",
       "                    }\n",
       "                }());\n",
       "            "
      ]
     },
     "metadata": {},
     "output_type": "display_data"
    },
    {
     "data": {
      "application/javascript": [
       "\n",
       "                (function(){\n",
       "                    var node = document.getElementById('diligent-0aeaaf86-76cc-4d1f-a06b-5d271f6f28c9-17-2');\n",
       "                    var data = '\\u003Cul\\u003E\\u003Cli\\u003EDigit 1 appeared 120, expected 303.0\\u003C/li\\u003E\\u003Cli\\u003EDigit 9 appeared 111, expected 46.0\\u003C/li\\u003E\\u003Cli\\u003EDigit 8 appeared 111, expected 52.0\\u003C/li\\u003E\\u003Cli\\u003EDigit 7 appeared 111, expected 58.0\\u003C/li\\u003E\\u003Cli\\u003EDigit 6 appeared 111, expected 67.0\\u003C/li\\u003E\\u003C/ul\\u003E\\u003Cp\\u003EAnd 4 more, set to verbose to see\\u003C/p\\u003E';\n",
       "                    node.innerHTML = data;\n",
       "                    if (!data) {\n",
       "                        node.style.backgroundColor = '#eee';\n",
       "                    }\n",
       "                }());\n",
       "            "
      ]
     },
     "metadata": {},
     "output_type": "display_data"
    },
    {
     "data": {
      "application/javascript": [
       "\n",
       "                (function(){\n",
       "                    var node = document.getElementById('diligent-0aeaaf86-76cc-4d1f-a06b-5d271f6f28c9-14-2');\n",
       "                    var data = '\\u003Cul\\u003E\\u003Cli\\u003EAt 0: 5 out of 5 points in a row are more than 1 standard deviations below the mean.\\u003C/li\\u003E\\u003Cli\\u003EAt 1: 5 out of 5 points in a row are more than 1 standard deviations below the mean.\\u003C/li\\u003E\\u003Cli\\u003EAt 2: 5 out of 5 points in a row are more than 1 standard deviations below the mean.\\u003C/li\\u003E\\u003Cli\\u003EAt 3: 5 out of 5 points in a row are more than 1 standard deviations below the mean.\\u003C/li\\u003E\\u003Cli\\u003EAt 4: 5 out of 5 points in a row are more than 1 standard deviations below the mean.\\u003C/li\\u003E\\u003C/ul\\u003E\\u003Cp\\u003EAnd 415 more, set to verbose to see\\u003C/p\\u003E';\n",
       "                    node.innerHTML = data;\n",
       "                    if (!data) {\n",
       "                        node.style.backgroundColor = '#eee';\n",
       "                    }\n",
       "                }());\n",
       "            "
      ]
     },
     "metadata": {},
     "output_type": "display_data"
    },
    {
     "data": {
      "application/javascript": [
       "\n",
       "                (function(){\n",
       "                    var node = document.getElementById('diligent-0aeaaf86-76cc-4d1f-a06b-5d271f6f28c9-2-3');\n",
       "                    var data = '0 values are 0';\n",
       "                    node.innerHTML = data;\n",
       "                    if (!data) {\n",
       "                        node.style.backgroundColor = '#eee';\n",
       "                    }\n",
       "                }());\n",
       "            "
      ]
     },
     "metadata": {},
     "output_type": "display_data"
    },
    {
     "data": {
      "application/javascript": [
       "\n",
       "                (function(){\n",
       "                    var node = document.getElementById('diligent-0aeaaf86-76cc-4d1f-a06b-5d271f6f28c9-7-3');\n",
       "                    var data = '';\n",
       "                    node.innerHTML = data;\n",
       "                    if (!data) {\n",
       "                        node.style.backgroundColor = '#eee';\n",
       "                    }\n",
       "                }());\n",
       "            "
      ]
     },
     "metadata": {},
     "output_type": "display_data"
    },
    {
     "data": {
      "application/javascript": [
       "\n",
       "                (function(){\n",
       "                    var node = document.getElementById('diligent-0aeaaf86-76cc-4d1f-a06b-5d271f6f28c9-3-3');\n",
       "                    var data = '';\n",
       "                    node.innerHTML = data;\n",
       "                    if (!data) {\n",
       "                        node.style.backgroundColor = '#eee';\n",
       "                    }\n",
       "                }());\n",
       "            "
      ]
     },
     "metadata": {},
     "output_type": "display_data"
    },
    {
     "data": {
      "application/javascript": [
       "\n",
       "                (function(){\n",
       "                    var node = document.getElementById('diligent-0aeaaf86-76cc-4d1f-a06b-5d271f6f28c9-8-3');\n",
       "                    var data = '';\n",
       "                    node.innerHTML = data;\n",
       "                    if (!data) {\n",
       "                        node.style.backgroundColor = '#eee';\n",
       "                    }\n",
       "                }());\n",
       "            "
      ]
     },
     "metadata": {},
     "output_type": "display_data"
    },
    {
     "data": {
      "application/javascript": [
       "\n",
       "                (function(){\n",
       "                    var node = document.getElementById('diligent-0aeaaf86-76cc-4d1f-a06b-5d271f6f28c9-10-3');\n",
       "                    var data = '\\u003Cul\\u003E\\u003Cli\\u003EAt 106: 17 data points in sequence are above the mean of 0.49502867645126225\\u003C/li\\u003E\\u003Cli\\u003EAt 212: 10 data points in sequence are above the mean of 0.49502867645126225\\u003C/li\\u003E\\u003Cli\\u003EAt 222: 9 data points in sequence are below the mean of 0.49502867645126225\\u003C/li\\u003E\\u003Cli\\u003EAt 483: 9 data points in sequence are above the mean of 0.49502867645126225\\u003C/li\\u003E\\u003Cli\\u003EAt 811: 9 data points in sequence are above the mean of 0.49502867645126225\\u003C/li\\u003E\\u003C/ul\\u003E\\u003Cp\\u003EAnd 1 more, set to verbose to see\\u003C/p\\u003E';\n",
       "                    node.innerHTML = data;\n",
       "                    if (!data) {\n",
       "                        node.style.backgroundColor = '#eee';\n",
       "                    }\n",
       "                }());\n",
       "            "
      ]
     },
     "metadata": {},
     "output_type": "display_data"
    },
    {
     "data": {
      "application/javascript": [
       "\n",
       "                (function(){\n",
       "                    var node = document.getElementById('diligent-0aeaaf86-76cc-4d1f-a06b-5d271f6f28c9-9-3');\n",
       "                    var data = '';\n",
       "                    node.innerHTML = data;\n",
       "                    if (!data) {\n",
       "                        node.style.backgroundColor = '#eee';\n",
       "                    }\n",
       "                }());\n",
       "            "
      ]
     },
     "metadata": {},
     "output_type": "display_data"
    },
    {
     "data": {
      "application/javascript": [
       "\n",
       "                (function(){\n",
       "                    var node = document.getElementById('diligent-0aeaaf86-76cc-4d1f-a06b-5d271f6f28c9-11-3');\n",
       "                    var data = 'At 523: 6 data points in sequence are increasing';\n",
       "                    node.innerHTML = data;\n",
       "                    if (!data) {\n",
       "                        node.style.backgroundColor = '#eee';\n",
       "                    }\n",
       "                }());\n",
       "            "
      ]
     },
     "metadata": {},
     "output_type": "display_data"
    },
    {
     "data": {
      "application/javascript": [
       "\n",
       "                (function(){\n",
       "                    var node = document.getElementById('diligent-0aeaaf86-76cc-4d1f-a06b-5d271f6f28c9-12-3');\n",
       "                    var data = '\\u003Cul\\u003E\\u003Cli\\u003EAt 540: 14 data points in sequence alternate in direction\\u003C/li\\u003E\\u003Cli\\u003EAt 967: 14 data points in sequence alternate in direction\\u003C/li\\u003E\\u003C/ul\\u003E';\n",
       "                    node.innerHTML = data;\n",
       "                    if (!data) {\n",
       "                        node.style.backgroundColor = '#eee';\n",
       "                    }\n",
       "                }());\n",
       "            "
      ]
     },
     "metadata": {},
     "output_type": "display_data"
    },
    {
     "data": {
      "application/javascript": [
       "\n",
       "                (function(){\n",
       "                    var node = document.getElementById('diligent-0aeaaf86-76cc-4d1f-a06b-5d271f6f28c9-4-3');\n",
       "                    var data = '';\n",
       "                    node.innerHTML = data;\n",
       "                    if (!data) {\n",
       "                        node.style.backgroundColor = '#eee';\n",
       "                    }\n",
       "                }());\n",
       "            "
      ]
     },
     "metadata": {},
     "output_type": "display_data"
    },
    {
     "data": {
      "application/javascript": [
       "\n",
       "                (function(){\n",
       "                    var node = document.getElementById('diligent-0aeaaf86-76cc-4d1f-a06b-5d271f6f28c9-16-2');\n",
       "                    var data = '\\u003Cul\\u003E\\u003Cli\\u003EAt 0: 213 points in a row exist with none within 1 standard deviation of the mean and the points are in both directions from the mean.\\u003C/li\\u003E\\u003Cli\\u003EAt 796: 213 points in a row exist with none within 1 standard deviation of the mean and the points are in both directions from the mean.\\u003C/li\\u003E\\u003C/ul\\u003E';\n",
       "                    node.innerHTML = data;\n",
       "                    if (!data) {\n",
       "                        node.style.backgroundColor = '#eee';\n",
       "                    }\n",
       "                }());\n",
       "            "
      ]
     },
     "metadata": {},
     "output_type": "display_data"
    },
    {
     "data": {
      "application/javascript": [
       "\n",
       "                (function(){\n",
       "                    var node = document.getElementById('diligent-0aeaaf86-76cc-4d1f-a06b-5d271f6f28c9-16-3');\n",
       "                    var data = '';\n",
       "                    node.innerHTML = data;\n",
       "                    if (!data) {\n",
       "                        node.style.backgroundColor = '#eee';\n",
       "                    }\n",
       "                }());\n",
       "            "
      ]
     },
     "metadata": {},
     "output_type": "display_data"
    },
    {
     "data": {
      "application/javascript": [
       "\n",
       "                (function(){\n",
       "                    var node = document.getElementById('diligent-0aeaaf86-76cc-4d1f-a06b-5d271f6f28c9-15-3');\n",
       "                    var data = '';\n",
       "                    node.innerHTML = data;\n",
       "                    if (!data) {\n",
       "                        node.style.backgroundColor = '#eee';\n",
       "                    }\n",
       "                }());\n",
       "            "
      ]
     },
     "metadata": {},
     "output_type": "display_data"
    },
    {
     "data": {
      "application/javascript": [
       "\n",
       "                (function(){\n",
       "                    var node = document.getElementById('diligent-0aeaaf86-76cc-4d1f-a06b-5d271f6f28c9-13-3');\n",
       "                    var data = '';\n",
       "                    node.innerHTML = data;\n",
       "                    if (!data) {\n",
       "                        node.style.backgroundColor = '#eee';\n",
       "                    }\n",
       "                }());\n",
       "            "
      ]
     },
     "metadata": {},
     "output_type": "display_data"
    },
    {
     "data": {
      "application/javascript": [
       "\n",
       "                (function(){\n",
       "                    var node = document.getElementById('diligent-0aeaaf86-76cc-4d1f-a06b-5d271f6f28c9-14-3');\n",
       "                    var data = '\\u003Cul\\u003E\\u003Cli\\u003EAt 199: 4 out of 5 points in a row are more than 1 standard deviations below the mean.\\u003C/li\\u003E\\u003Cli\\u003EAt 200: 5 out of 5 points in a row are more than 1 standard deviations below the mean.\\u003C/li\\u003E\\u003Cli\\u003EAt 201: 4 out of 5 points in a row are more than 1 standard deviations below the mean.\\u003C/li\\u003E\\u003Cli\\u003EAt 271: 4 out of 5 points in a row are more than 1 standard deviations above the mean.\\u003C/li\\u003E\\u003Cli\\u003EAt 272: 4 out of 5 points in a row are more than 1 standard deviations above the mean.\\u003C/li\\u003E\\u003C/ul\\u003E\\u003Cp\\u003EAnd 15 more, set to verbose to see\\u003C/p\\u003E';\n",
       "                    node.innerHTML = data;\n",
       "                    if (!data) {\n",
       "                        node.style.backgroundColor = '#eee';\n",
       "                    }\n",
       "                }());\n",
       "            "
      ]
     },
     "metadata": {},
     "output_type": "display_data"
    },
    {
     "data": {
      "application/javascript": [
       "\n",
       "                (function(){\n",
       "                    var node = document.getElementById('diligent-0aeaaf86-76cc-4d1f-a06b-5d271f6f28c9-17-3');\n",
       "                    var data = '\\u003Cul\\u003E\\u003Cli\\u003EDigit 2 appeared 134, expected 178.0\\u003C/li\\u003E\\u003Cli\\u003EDigit 8 appeared 125, expected 52.0\\u003C/li\\u003E\\u003Cli\\u003EDigit 4 appeared 123, expected 98.0\\u003C/li\\u003E\\u003Cli\\u003EDigit 9 appeared 111, expected 46.0\\u003C/li\\u003E\\u003Cli\\u003EDigit 5 appeared 111, expected 80.0\\u003C/li\\u003E\\u003C/ul\\u003E\\u003Cp\\u003EAnd 4 more, set to verbose to see\\u003C/p\\u003E';\n",
       "                    node.innerHTML = data;\n",
       "                    if (!data) {\n",
       "                        node.style.backgroundColor = '#eee';\n",
       "                    }\n",
       "                }());\n",
       "            "
      ]
     },
     "metadata": {},
     "output_type": "display_data"
    },
    {
     "data": {
      "text/html": [],
      "text/plain": [
       "<diligent.diligent.DiligentReport at 0x10890c908>"
      ]
     },
     "execution_count": 4,
     "metadata": {},
     "output_type": "execute_result"
    }
   ],
   "source": [
    "test_df = pd.DataFrame({'alternate': [1,1,1,1] + list(itertools.chain(*zip([x for x in range(0, 1000, 2)],\n",
    "                                                               [x for x in range(1, 1000)]))) + [1,2,3,4,5],\n",
    "                        'linear': range(1009),\n",
    "                        'random': np.random.rand(1009)\n",
    "                        })\n",
    "diligent(test_df)"
   ]
  }
 ],
 "metadata": {
  "kernelspec": {
   "display_name": "Python 3",
   "language": "python",
   "name": "python3"
  },
  "language_info": {
   "codemirror_mode": {
    "name": "ipython",
    "version": 3
   },
   "file_extension": ".py",
   "mimetype": "text/x-python",
   "name": "python",
   "nbconvert_exporter": "python",
   "pygments_lexer": "ipython3",
   "version": "3.5.0"
  }
 },
 "nbformat": 4,
 "nbformat_minor": 0
}
